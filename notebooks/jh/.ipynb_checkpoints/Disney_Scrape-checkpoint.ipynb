{
 "cells": [
  {
   "cell_type": "code",
   "execution_count": 1,
   "metadata": {},
   "outputs": [
    {
     "name": "stdout",
     "output_type": "stream",
     "text": [
      "<!DOCTYPE doctype html>\n",
      "\n",
      "<html>\n",
      "<head>\n",
      "<meta content=\"text/html;charset=utf-8\" http-equiv=\"content-type\"/>\n",
      "<meta charset=\"utf-8\"/>\n",
      "<title>\n",
      "      \n",
      "        \n",
      "        December 16, 2018 - Wait Times - \"it's a small world\" - Park Genius\n",
      "      \n",
      "    </title>\n",
      "<meta content=\"width=device-width, initial-scale=1.0, maximum-scale=1.0, user-scalable=no\" name=\"viewport\"/>\n",
      "<meta content=\"yes\" name=\"apple-mobile-web-app-capable\"/>\n",
      "<meta content=\"yes\" name=\"apple-touch-fullscreen\"/>\n",
      "<meta content=\"default\" name=\"apple-mobile-web-app-status-bar-style\"/>\n",
      "<meta content=\"Wait Times for &quot;it's a small world&quot;\" property=\"og:title\">\n",
      "<meta content=\"Wait Times for &quot;it's a small world&quot;\" property=\"twitter:title\">\n",
      "<meta content=\"Wait times (December 16, 2018) for &quot;it's a small world&quot; in Magic Kingdom.\" property=\"og:description\">\n",
      "<meta content=\"Wait times (December 16, 2018) for &quot;it's a small world&quot; in Magic Kingdom.\" property=\"twitter:description\"/>\n",
      "<meta content=\"summary\" name=\"twitter:card\"/>\n",
      "<!-- BEGIN Vendor CSS-->\n",
      "<link href=\"/static/assets/plugins/pace/pace-theme-minimal.css\" rel=\"stylesheet\" type=\"text/css\"/>\n",
      "<link href=\"/static/assets/plugins/bootstrapv3/css/bootstrap.min.css\" rel=\"stylesheet\" type=\"text/css\"/>\n",
      "<link href=\"/static/assets/plugins/font-awesome/css/font-awesome.css\" rel=\"stylesheet\" type=\"text/css\"/>\n",
      "<link href=\"/static/assets/plugins/jquery-scrollbar/jquery.scrollbar.css\" media=\"screen\" rel=\"stylesheet\" type=\"text/css\"/>\n",
      "<link href=\"/static/assets/plugins/bootstrap-select2/select2.css\" media=\"screen\" rel=\"stylesheet\" type=\"text/css\"/>\n",
      "<link href=\"/static/assets/plugins/switchery/css/switchery.min.css\" media=\"screen\" rel=\"stylesheet\" type=\"text/css\"/>\n",
      "<!-- BEGIN Pages CSS-->\n",
      "<link href=\"/static/pages/css/pages-icons.css\" rel=\"stylesheet\" type=\"text/css\"/>\n",
      "<link class=\"main-stylesheet\" href=\"/static/pages/css/pages.css\" rel=\"stylesheet\" type=\"text/css\">\n",
      "<!--[if lte IE 9]>\n",
      "        <link href=\"/static/pages/css/ie9.css\" rel=\"stylesheet\" type=\"text/css\" />\n",
      "    <![endif]-->\n",
      "<link class=\"main-stylesheet\" href=\"/static/assets/css/style.css\" rel=\"stylesheet\" type=\"text/css\"/>\n",
      "<script type=\"text/javascript\">\n",
      "    window.onload = function()\n",
      "    {\n",
      "      // fix for windows 8\n",
      "      if (navigator.appVersion.indexOf(\"Windows NT 6.2\") != -1)\n",
      "        document.head.innerHTML += '<link rel=\"stylesheet\" type=\"text/css\" href=\"/static/pages/css/windows.chrome.fix.css\" />'\n",
      "    }\n",
      "    </script>\n",
      "<link href=\"data:image/x-icon;base64,iVBORw0KGgoAAAANSUhEUgAAABAAAAAQEAYAAABPYyMiAAAABmJLR0T///////8JWPfcAAAACXBIWXMAAABIAAAASABGyWs+AAAAF0lEQVRIx2NgGAWjYBSMglEwCkbBSAcACBAAAeaR9cIAAAAASUVORK5CYII=\" rel=\"icon\" type=\"image/x-icon\"/>\n",
      "</link></meta></meta></meta></head>\n",
      "<body class=\"fixed-header menu-pin menu-behind\">\n",
      "<!-- BEGIN SIDEBAR -->\n",
      "<div class=\"page-sidebar\" data-pages=\"sidebar\">\n",
      "<div class=\"sidebar-overlay-slide from-top\" id=\"appMenu\">\n",
      "</div>\n",
      "<!-- BEGIN SIDEBAR HEADER -->\n",
      "<div class=\"sidebar-header\">\n",
      "<span class=\"brand-text\">park genius</span>\n",
      "</div>\n",
      "<!-- END SIDEBAR HEADER -->\n",
      "<!-- BEGIN SIDEBAR MENU -->\n",
      "<div class=\"sidebar-menu\">\n",
      "<ul class=\"menu-items\">\n",
      "<li class=\"m-t-30\">\n",
      "<a class=\"detailed\" href=\"/\">\n",
      "<span class=\"title\">Home</span>\n",
      "</a>\n",
      "<span class=\"icon-thumbnail\"><i class=\"fa fa-home\"></i></span>\n",
      "</li>\n",
      "<li>\n",
      "<a href=\"javascript:;\">\n",
      "<span class=\"title\">Disney World</span>\n",
      "<span class=\"arrow\"></span>\n",
      "</a>\n",
      "<span class=\"icon-thumbnail\">DW</span>\n",
      "<ul class=\"sub-menu\">\n",
      "<li>\n",
      "<a href=\"/disney-world/magic-kingdom\">\n",
      "<span class=\"title\">Magic Kingdom</span>\n",
      "</a>\n",
      "<span class=\"icon-thumbnail\">MK</span>\n",
      "</li>\n",
      "</ul>\n",
      "</li>\n",
      "</ul>\n",
      "<div class=\"clearfix\"></div>\n",
      "</div>\n",
      "<!-- END SIDEBAR MENU -->\n",
      "</div>\n",
      "<!-- END SIDEBAR -->\n",
      "<!-- START PAGE-CONTAINER -->\n",
      "<div class=\"page-container\">\n",
      "<!-- START PAGE HEADER WRAPPER -->\n",
      "<!-- START HEADER -->\n",
      "<div class=\"header \">\n",
      "<!-- START MOBILE CONTROLS -->\n",
      "<!-- LEFT SIDE -->\n",
      "<div class=\"pull-left full-height visible-sm visible-xs\">\n",
      "<!-- START ACTION BAR -->\n",
      "<div class=\"sm-action-bar\">\n",
      "<a class=\"btn-link toggle-sidebar\" data-toggle=\"sidebar\" href=\"#\">\n",
      "<span class=\"icon-set menu-hambuger\"></span>\n",
      "</a>\n",
      "</div>\n",
      "<!-- END ACTION BAR -->\n",
      "</div>\n",
      "<!-- RIGHT SIDE -->\n",
      "<div class=\"pull-right full-height visible-sm visible-xs\">\n",
      "<!-- START ACTION BAR -->\n",
      "<div class=\"sm-action-bar\">\n",
      "<a class=\"btn-link\" data-toggle=\"quickview\" data-toggle-element=\"#quickview\" href=\"#\">\n",
      "<span class=\"icon-set menu-hambuger-plus\"></span>\n",
      "</a>\n",
      "</div>\n",
      "<!-- END ACTION BAR -->\n",
      "</div>\n",
      "<!-- END MOBILE CONTROLS -->\n",
      "<div class=\" pull-left sm-table\">\n",
      "<div class=\"header-inner\">\n",
      "<div class=\"brand inline\">\n",
      "<span class=\"brand-text\">park genius</span>\n",
      "</div>\n",
      "</div>\n",
      "</div>\n",
      "</div>\n",
      "<!-- END HEADER -->\n",
      "<!-- END PAGE HEADER WRAPPER -->\n",
      "<!-- START PAGE CONTENT WRAPPER -->\n",
      "<div class=\"page-content-wrapper\">\n",
      "<!-- START PAGE CONTENT -->\n",
      "<div class=\"content\">\n",
      "<!-- START JUMBOTRON -->\n",
      "<!--<div class=\"jumbotron\" data-pages=\"parallax\">\n",
      "            <div class=\"container-fluid container-fixed-lg sm-p-l-20 sm-p-r-20\">\n",
      "              <div class=\"inner\">\n",
      "                <ul class=\"breadcrumb\">\n",
      "                  <li>\n",
      "                    <p>Pages</p>\n",
      "                  </li>\n",
      "                  <li><a href=\"#\" class=\"active\">Barebone template</a>\n",
      "                  </li>\n",
      "                </ul>\n",
      "              </div>\n",
      "            </div>\n",
      "          </div>-->\n",
      "<!-- END JUMBOTRON -->\n",
      "<!-- START CONTAINER FLUID -->\n",
      "<div class=\"container-fluid padding-25 sm-padding-10\">\n",
      "<!-- BEGIN PlACE PAGE CONTENT HERE -->\n",
      "<div class=\"sm-gutter\">\n",
      "<div class=\"container-fluid no-padding\">\n",
      "<div class=\"row\">\n",
      "<div class=\"col-md-9 m-b-10\">\n",
      "<h2>\"it's a small world\" <small>Wait Times for December 16, 2018</small></h2>\n",
      "<canvas id=\"chart\"></canvas>\n",
      "</div>\n",
      "<div class=\"col-md-3 m-b-10\">\n",
      "<div class=\"row m-b-10\">\n",
      "<div class=\"col-md-12\">\n",
      "<div class=\"panel no-border no-margin widget-attraction-current-wait widget-current-wait-its-a-small-world\">\n",
      "<div class=\"container-xs-height full-height\">\n",
      "<div class=\"row-xs-height\">\n",
      "<div class=\"col-xs-height col-top\">\n",
      "<div class=\"panel-heading top-left top-right\">\n",
      "<div class=\"panel-title text-black\">\n",
      "<span class=\"font-montserrat fs-11 all-caps\">\n",
      "                            Current Wait <i class=\"fa fa-chevron-right\"></i>\n",
      "</span>\n",
      "</div>\n",
      "</div>\n",
      "</div>\n",
      "</div>\n",
      "<div class=\"row-xs-height\">\n",
      "<div class=\"col-xs-height col-top\">\n",
      "<div class=\"p-l-20 p-t-60 p-b-20 p-r-20\">\n",
      "<h1 class=\"no-margin p-b-10\">\n",
      "                        \n",
      "                            \n",
      "                                65 minutes\n",
      "                            \n",
      "                        \n",
      "                    </h1>\n",
      "<div class=\"row-xs-height m-b-0\">\n",
      "<div class=\"col-md-6 no-padding\">\n",
      "<span class=\"small hint-text pull-left\">\n",
      "                                \n",
      "\n",
      "                                \n",
      "                                    Significantly Above Average\n",
      "                                \n",
      "                            </span>\n",
      "</div>\n",
      "<div class=\"col-md-6 no-padding\">\n",
      "<span class=\"pull-right small text-primary\">\n",
      "                                The wait is usually 50 minutes around this time.\n",
      "                            </span>\n",
      "</div>\n",
      "</div>\n",
      "</div>\n",
      "</div>\n",
      "</div>\n",
      "<div class=\"row-xs-height\">\n",
      "<div class=\"col-xs-height col-bottom\">\n",
      "<div class=\"progress progress-small m-b-0\">\n",
      "<div class=\"progress-bar progress-bar-primary\" style=\"width: 0%\"></div>\n",
      "</div>\n",
      "</div>\n",
      "</div>\n",
      "</div>\n",
      "</div>\n",
      "</div>\n",
      "</div>\n",
      "</div>\n",
      "</div>\n",
      "</div>\n",
      "</div>\n",
      "<script type=\"text/javascript\">\n",
      "    window.attractionWaitTimes = {\"open\":\"2018-12-16T12:45:00.000Z\",\"close\":\"2018-12-16T23:00:00.000Z\",\"waitTimes\":[{\"date\":\"2018-12-16T12:51:31.714Z\",\"waitTime\":5},{\"date\":\"2018-12-16T12:56:28.238Z\",\"waitTime\":5},{\"date\":\"2018-12-16T13:03:12.293Z\",\"waitTime\":5},{\"date\":\"2018-12-16T13:08:40.273Z\",\"waitTime\":10},{\"date\":\"2018-12-16T13:13:30.514Z\",\"waitTime\":10},{\"date\":\"2018-12-16T13:15:33.312Z\",\"waitTime\":10},{\"date\":\"2018-12-16T13:23:23.492Z\",\"waitTime\":10},{\"date\":\"2018-12-16T13:28:34.776Z\",\"waitTime\":10},{\"date\":\"2018-12-16T13:33:42.093Z\",\"waitTime\":10},{\"date\":\"2018-12-16T13:35:33.913Z\",\"waitTime\":10},{\"date\":\"2018-12-16T13:43:38.814Z\",\"waitTime\":10},{\"date\":\"2018-12-16T13:45:33.150Z\",\"waitTime\":10},{\"date\":\"2018-12-16T13:51:35.934Z\",\"waitTime\":10},{\"date\":\"2018-12-16T13:55:34.513Z\",\"waitTime\":10},{\"date\":\"2018-12-16T14:00:35.596Z\",\"waitTime\":5},{\"date\":\"2018-12-16T14:06:37.873Z\",\"waitTime\":5},{\"date\":\"2018-12-16T14:11:30.959Z\",\"waitTime\":10},{\"date\":\"2018-12-16T14:15:34.051Z\",\"waitTime\":10},{\"date\":\"2018-12-16T14:20:34.193Z\",\"waitTime\":10},{\"date\":\"2018-12-16T14:25:43.411Z\",\"waitTime\":10},{\"date\":\"2018-12-16T14:33:34.174Z\",\"waitTime\":10},{\"date\":\"2018-12-16T14:35:29.283Z\",\"waitTime\":10},{\"date\":\"2018-12-16T14:40:29.040Z\",\"waitTime\":10},{\"date\":\"2018-12-16T14:45:33.012Z\",\"waitTime\":10},{\"date\":\"2018-12-16T14:50:27.541Z\",\"waitTime\":10},{\"date\":\"2018-12-16T14:55:28.082Z\",\"waitTime\":10},{\"date\":\"2018-12-16T15:00:29.083Z\",\"waitTime\":10},{\"date\":\"2018-12-16T15:08:43.835Z\",\"waitTime\":10},{\"date\":\"2018-12-16T15:10:41.332Z\",\"waitTime\":10},{\"date\":\"2018-12-16T15:15:30.122Z\",\"waitTime\":10},{\"date\":\"2018-12-16T15:25:27.410Z\",\"waitTime\":10},{\"date\":\"2018-12-16T15:31:32.810Z\",\"waitTime\":10},{\"date\":\"2018-12-16T15:35:28.465Z\",\"waitTime\":15},{\"date\":\"2018-12-16T15:43:30.366Z\",\"waitTime\":15},{\"date\":\"2018-12-16T15:50:28.560Z\",\"waitTime\":20},{\"date\":\"2018-12-16T15:56:38.990Z\",\"waitTime\":20},{\"date\":\"2018-12-16T16:00:33.151Z\",\"waitTime\":20},{\"date\":\"2018-12-16T16:06:33.765Z\",\"waitTime\":20},{\"date\":\"2018-12-16T16:20:29.087Z\",\"waitTime\":20},{\"date\":\"2018-12-16T16:26:26.042Z\",\"waitTime\":20},{\"date\":\"2018-12-16T16:31:29.042Z\",\"waitTime\":20},{\"date\":\"2018-12-16T16:35:34.040Z\",\"waitTime\":20},{\"date\":\"2018-12-16T16:40:33.177Z\",\"waitTime\":20},{\"date\":\"2018-12-16T16:45:30.843Z\",\"waitTime\":20},{\"date\":\"2018-12-16T16:51:28.851Z\",\"waitTime\":20},{\"date\":\"2018-12-16T16:55:34.616Z\",\"waitTime\":20},{\"date\":\"2018-12-16T17:00:29.242Z\",\"waitTime\":25},{\"date\":\"2018-12-16T17:06:34.629Z\",\"waitTime\":25},{\"date\":\"2018-12-16T17:10:35.962Z\",\"waitTime\":30},{\"date\":\"2018-12-16T17:15:34.002Z\",\"waitTime\":25},{\"date\":\"2018-12-16T17:21:23.623Z\",\"waitTime\":25},{\"date\":\"2018-12-16T17:25:38.824Z\",\"waitTime\":25},{\"date\":\"2018-12-16T17:36:39.903Z\",\"waitTime\":30},{\"date\":\"2018-12-16T17:43:27.446Z\",\"waitTime\":30},{\"date\":\"2018-12-16T17:45:39.965Z\",\"waitTime\":25},{\"date\":\"2018-12-16T17:50:33.465Z\",\"waitTime\":30},{\"date\":\"2018-12-16T18:00:40.263Z\",\"waitTime\":30},{\"date\":\"2018-12-16T18:05:28.179Z\",\"waitTime\":30},{\"date\":\"2018-12-16T18:10:34.803Z\",\"waitTime\":30},{\"date\":\"2018-12-16T18:16:31.702Z\",\"waitTime\":25},{\"date\":\"2018-12-16T18:20:34.646Z\",\"waitTime\":25},{\"date\":\"2018-12-16T18:30:33.948Z\",\"waitTime\":25},{\"date\":\"2018-12-16T18:35:34.149Z\",\"waitTime\":25},{\"date\":\"2018-12-16T18:56:42.065Z\",\"waitTime\":30},{\"date\":\"2018-12-16T19:00:32.882Z\",\"waitTime\":30},{\"date\":\"2018-12-16T19:05:42.809Z\",\"waitTime\":30},{\"date\":\"2018-12-16T19:10:40.700Z\",\"waitTime\":40},{\"date\":\"2018-12-16T19:15:27.182Z\",\"waitTime\":30},{\"date\":\"2018-12-16T19:20:33.846Z\",\"waitTime\":40},{\"date\":\"2018-12-16T19:25:36.664Z\",\"waitTime\":40},{\"date\":\"2018-12-16T19:33:45.424Z\",\"waitTime\":35},{\"date\":\"2018-12-16T19:36:36.922Z\",\"waitTime\":35},{\"date\":\"2018-12-16T19:40:28.141Z\",\"waitTime\":35},{\"date\":\"2018-12-16T19:45:34.183Z\",\"waitTime\":30},{\"date\":\"2018-12-16T19:50:35.447Z\",\"waitTime\":25},{\"date\":\"2018-12-16T19:56:36.389Z\",\"waitTime\":30},{\"date\":\"2018-12-16T20:00:32.987Z\",\"waitTime\":30},{\"date\":\"2018-12-16T20:05:34.404Z\",\"waitTime\":35},{\"date\":\"2018-12-16T20:16:26.531Z\",\"waitTime\":40},{\"date\":\"2018-12-16T20:20:39.661Z\",\"waitTime\":40},{\"date\":\"2018-12-16T20:25:28.605Z\",\"waitTime\":40},{\"date\":\"2018-12-16T20:30:39.946Z\",\"waitTime\":45},{\"date\":\"2018-12-16T20:36:34.427Z\",\"waitTime\":45},{\"date\":\"2018-12-16T20:40:33.666Z\",\"waitTime\":45},{\"date\":\"2018-12-16T20:46:31.104Z\",\"waitTime\":40},{\"date\":\"2018-12-16T20:50:35.560Z\",\"waitTime\":35},{\"date\":\"2018-12-16T20:56:46.206Z\",\"waitTime\":35},{\"date\":\"2018-12-16T21:01:47.823Z\",\"waitTime\":35},{\"date\":\"2018-12-16T21:05:33.607Z\",\"waitTime\":35},{\"date\":\"2018-12-16T21:10:33.470Z\",\"waitTime\":30},{\"date\":\"2018-12-16T21:15:43.424Z\",\"waitTime\":30},{\"date\":\"2018-12-16T21:21:35.060Z\",\"waitTime\":25},{\"date\":\"2018-12-16T21:25:42.504Z\",\"waitTime\":25},{\"date\":\"2018-12-16T21:33:42.524Z\",\"waitTime\":25},{\"date\":\"2018-12-16T21:35:32.741Z\",\"waitTime\":25},{\"date\":\"2018-12-16T21:41:41.123Z\",\"waitTime\":30},{\"date\":\"2018-12-16T21:45:33.750Z\",\"waitTime\":30},{\"date\":\"2018-12-16T21:55:40.843Z\",\"waitTime\":30},{\"date\":\"2018-12-16T22:00:33.523Z\",\"waitTime\":35},{\"date\":\"2018-12-16T22:08:34.824Z\",\"waitTime\":35},{\"date\":\"2018-12-16T22:11:41.084Z\",\"waitTime\":35},{\"date\":\"2018-12-16T22:15:49.670Z\",\"waitTime\":35},{\"date\":\"2018-12-16T22:25:43.950Z\",\"waitTime\":40},{\"date\":\"2018-12-16T22:31:46.945Z\",\"waitTime\":40},{\"date\":\"2018-12-16T22:35:31.729Z\",\"waitTime\":40},{\"date\":\"2018-12-16T22:48:25.786Z\",\"waitTime\":35},{\"date\":\"2018-12-16T22:51:40.909Z\",\"waitTime\":35}]};\n",
      "    window.attractionTimezone = \"America/New_York\";\n",
      "</script>\n",
      "<!-- END PLACE PAGE CONTENT HERE -->\n",
      "</div>\n",
      "<!-- END CONTAINER FLUID -->\n",
      "</div>\n",
      "<!-- END PAGE CONTENT -->\n",
      "<!-- START FOOTER -->\n",
      "<div class=\"container-fluid container-fixed-lg footer\">\n",
      "<div class=\"copyright sm-text-center\">\n",
      "<p class=\"small no-margin pull-left sm-pull-reset\">\n",
      "<span class=\"hint-text\">Copyright © 2018</span>\n",
      "<span class=\"font-montserrat\">WizardApps</span>.\n",
      "        <span class=\"hint-text\">All rights reserved.</span>\n",
      "<span class=\"sm-block\"><a class=\"m-l-10 m-r-10\" href=\"#\">Terms of use</a>\n",
      "</span>\n",
      "</p>\n",
      "<div class=\"clearfix\"></div>\n",
      "</div>\n",
      "</div>\n",
      "<!-- END FOOTER -->\n",
      "</div>\n",
      "<!-- END PAGE CONTENT WRAPPER -->\n",
      "</div>\n",
      "<!-- END PAGE CONTAINER -->\n",
      "<!-- BEGIN VENDOR JS -->\n",
      "<script src=\"/static/assets/plugins/pace/pace.min.js\" type=\"text/javascript\"></script>\n",
      "<script src=\"/static/assets/plugins/jquery/jquery-1.11.1.min.js\" type=\"text/javascript\"></script>\n",
      "<script src=\"/static/assets/plugins/modernizr.custom.js\" type=\"text/javascript\"></script>\n",
      "<script src=\"/static/assets/plugins/bootstrapv3/js/bootstrap.min.js\" type=\"text/javascript\"></script>\n",
      "<script src=\"/static/assets/plugins/jquery-scrollbar/jquery.scrollbar.min.js\"></script>\n",
      "<!-- END VENDOR JS -->\n",
      "<!-- BEGIN CORE TEMPLATE JS -->\n",
      "<script src=\"/static/pages/js/pages.js\" type=\"text/javascript\"></script>\n",
      "<!-- END CORE TEMPLATE JS -->\n",
      "<!-- BEGIN PAGE LEVEL JS -->\n",
      "<script src=\"/static/assets/js/scripts.js\" type=\"text/javascript\"></script>\n",
      "<!-- END PAGE LEVEL JS -->\n",
      "<script src=\"/static/assets/plugins/moment/moment.min.js\"></script>\n",
      "<script src=\"/static/assets/plugins/moment/moment-timezone-with-data-2012-2022.js\"></script>\n",
      "<script src=\"/static/assets/plugins/chartjs/Chart.min.js\"></script>\n",
      "<script src=\"/static/assets/plugins/chartjs/Chart.plugin.annotation.min.js\"></script>\n",
      "<script src=\"/static/assets/js/attraction-wait-times.js\"></script>\n",
      "</body>\n",
      "</html>\n"
     ]
    }
   ],
   "source": [
    "## Project to Screen Scrape Disney Wait Times from Website\n",
    "## Source: https://www.parkgeni.us/disney-world/magic-kingdom/its-a-small-world/wait-times/2018-12-16\n",
    "\n",
    "# import libraries\n",
    "from bs4 import BeautifulSoup\n",
    "import urllib2\n",
    "import requests\n",
    "\n",
    "# Identify the URL and create a soup object\n",
    "url = \"https://www.parkgeni.us/disney-world/magic-kingdom/its-a-small-world/wait-times/2018-12-16\"\n",
    "\n",
    "response = requests.get(url)\n",
    "\n",
    "soup = BeautifulSoup(response.text, 'html.parser')\n",
    "\n",
    "print soup\n",
    "\n",
    "\n",
    "\n",
    "\n"
   ]
  },
  {
   "cell_type": "code",
   "execution_count": 2,
   "metadata": {},
   "outputs": [],
   "source": [
    "#Find the Script tag with the java object\n",
    "all_scripts = soup.find_all('script')"
   ]
  },
  {
   "cell_type": "code",
   "execution_count": 22,
   "metadata": {},
   "outputs": [
    {
     "name": "stdout",
     "output_type": "stream",
     "text": [
      "\n"
     ]
    }
   ],
   "source": [
    "print(all_scripts[6].text[:100])"
   ]
  },
  {
   "cell_type": "code",
   "execution_count": 4,
   "metadata": {},
   "outputs": [
    {
     "name": "stdout",
     "output_type": "stream",
     "text": [
      "\n",
      "    window.attractionWaitTimes = {\"open\":\"2018-12-16T12:45:00.000Z\",\"close\":\"2018-12-16T23:00:00.000Z\",\"waitTimes\":[{\"date\":\"2018-12-16T12:51:31.714Z\",\"waitTime\":5},{\"date\":\"2018-12-16T12:56:28.238Z\",\"waitTime\":5},{\"date\":\"2018-12-16T13:03:12.293Z\",\"waitTime\":5},{\"date\":\"2018-12-16T13:08:40.273Z\",\"waitTime\":10},{\"date\":\"2018-12-16T13:13:30.514Z\",\"waitTime\":10},{\"date\":\"2018-12-16T13:15:33.312Z\",\"waitTime\":10},{\"date\":\"2018-12-16T13:23:23.492Z\",\"waitTime\":10},{\"date\":\"2018-12-16T13:28:34.776Z\",\"waitTime\":10},{\"date\":\"2018-12-16T13:33:42.093Z\",\"waitTime\":10},{\"date\":\"2018-12-16T13:35:33.913Z\",\"waitTime\":10},{\"date\":\"2018-12-16T13:43:38.814Z\",\"waitTime\":10},{\"date\":\"2018-12-16T13:45:33.150Z\",\"waitTime\":10},{\"date\":\"2018-12-16T13:51:35.934Z\",\"waitTime\":10},{\"date\":\"2018-12-16T13:55:34.513Z\",\"waitTime\":10},{\"date\":\"2018-12-16T14:00:35.596Z\",\"waitTime\":5},{\"date\":\"2018-12-16T14:06:37.873Z\",\"waitTime\":5},{\"date\":\"2018-12-16T14:11:30.959Z\",\"waitTime\":10},{\"date\":\"2018-12-16T14:15:34.051Z\",\"waitTime\":10},{\"date\":\"2018-12-16T14:20:34.193Z\",\"waitTime\":10},{\"date\":\"2018-12-16T14:25:43.411Z\",\"waitTime\":10},{\"date\":\"2018-12-16T14:33:34.174Z\",\"waitTime\":10},{\"date\":\"2018-12-16T14:35:29.283Z\",\"waitTime\":10},{\"date\":\"2018-12-16T14:40:29.040Z\",\"waitTime\":10},{\"date\":\"2018-12-16T14:45:33.012Z\",\"waitTime\":10},{\"date\":\"2018-12-16T14:50:27.541Z\",\"waitTime\":10},{\"date\":\"2018-12-16T14:55:28.082Z\",\"waitTime\":10},{\"date\":\"2018-12-16T15:00:29.083Z\",\"waitTime\":10},{\"date\":\"2018-12-16T15:08:43.835Z\",\"waitTime\":10},{\"date\":\"2018-12-16T15:10:41.332Z\",\"waitTime\":10},{\"date\":\"2018-12-16T15:15:30.122Z\",\"waitTime\":10},{\"date\":\"2018-12-16T15:25:27.410Z\",\"waitTime\":10},{\"date\":\"2018-12-16T15:31:32.810Z\",\"waitTime\":10},{\"date\":\"2018-12-16T15:35:28.465Z\",\"waitTime\":15},{\"date\":\"2018-12-16T15:43:30.366Z\",\"waitTime\":15},{\"date\":\"2018-12-16T15:50:28.560Z\",\"waitTime\":20},{\"date\":\"2018-12-16T15:56:38.990Z\",\"waitTime\":20},{\"date\":\"2018-12-16T16:00:33.151Z\",\"waitTime\":20},{\"date\":\"2018-12-16T16:06:33.765Z\",\"waitTime\":20},{\"date\":\"2018-12-16T16:20:29.087Z\",\"waitTime\":20},{\"date\":\"2018-12-16T16:26:26.042Z\",\"waitTime\":20},{\"date\":\"2018-12-16T16:31:29.042Z\",\"waitTime\":20},{\"date\":\"2018-12-16T16:35:34.040Z\",\"waitTime\":20},{\"date\":\"2018-12-16T16:40:33.177Z\",\"waitTime\":20},{\"date\":\"2018-12-16T16:45:30.843Z\",\"waitTime\":20},{\"date\":\"2018-12-16T16:51:28.851Z\",\"waitTime\":20},{\"date\":\"2018-12-16T16:55:34.616Z\",\"waitTime\":20},{\"date\":\"2018-12-16T17:00:29.242Z\",\"waitTime\":25},{\"date\":\"2018-12-16T17:06:34.629Z\",\"waitTime\":25},{\"date\":\"2018-12-16T17:10:35.962Z\",\"waitTime\":30},{\"date\":\"2018-12-16T17:15:34.002Z\",\"waitTime\":25},{\"date\":\"2018-12-16T17:21:23.623Z\",\"waitTime\":25},{\"date\":\"2018-12-16T17:25:38.824Z\",\"waitTime\":25},{\"date\":\"2018-12-16T17:36:39.903Z\",\"waitTime\":30},{\"date\":\"2018-12-16T17:43:27.446Z\",\"waitTime\":30},{\"date\":\"2018-12-16T17:45:39.965Z\",\"waitTime\":25},{\"date\":\"2018-12-16T17:50:33.465Z\",\"waitTime\":30},{\"date\":\"2018-12-16T18:00:40.263Z\",\"waitTime\":30},{\"date\":\"2018-12-16T18:05:28.179Z\",\"waitTime\":30},{\"date\":\"2018-12-16T18:10:34.803Z\",\"waitTime\":30},{\"date\":\"2018-12-16T18:16:31.702Z\",\"waitTime\":25},{\"date\":\"2018-12-16T18:20:34.646Z\",\"waitTime\":25},{\"date\":\"2018-12-16T18:30:33.948Z\",\"waitTime\":25},{\"date\":\"2018-12-16T18:35:34.149Z\",\"waitTime\":25},{\"date\":\"2018-12-16T18:56:42.065Z\",\"waitTime\":30},{\"date\":\"2018-12-16T19:00:32.882Z\",\"waitTime\":30},{\"date\":\"2018-12-16T19:05:42.809Z\",\"waitTime\":30},{\"date\":\"2018-12-16T19:10:40.700Z\",\"waitTime\":40},{\"date\":\"2018-12-16T19:15:27.182Z\",\"waitTime\":30},{\"date\":\"2018-12-16T19:20:33.846Z\",\"waitTime\":40},{\"date\":\"2018-12-16T19:25:36.664Z\",\"waitTime\":40},{\"date\":\"2018-12-16T19:33:45.424Z\",\"waitTime\":35},{\"date\":\"2018-12-16T19:36:36.922Z\",\"waitTime\":35},{\"date\":\"2018-12-16T19:40:28.141Z\",\"waitTime\":35},{\"date\":\"2018-12-16T19:45:34.183Z\",\"waitTime\":30},{\"date\":\"2018-12-16T19:50:35.447Z\",\"waitTime\":25},{\"date\":\"2018-12-16T19:56:36.389Z\",\"waitTime\":30},{\"date\":\"2018-12-16T20:00:32.987Z\",\"waitTime\":30},{\"date\":\"2018-12-16T20:05:34.404Z\",\"waitTime\":35},{\"date\":\"2018-12-16T20:16:26.531Z\",\"waitTime\":40},{\"date\":\"2018-12-16T20:20:39.661Z\",\"waitTime\":40},{\"date\":\"2018-12-16T20:25:28.605Z\",\"waitTime\":40},{\"date\":\"2018-12-16T20:30:39.946Z\",\"waitTime\":45},{\"date\":\"2018-12-16T20:36:34.427Z\",\"waitTime\":45},{\"date\":\"2018-12-16T20:40:33.666Z\",\"waitTime\":45},{\"date\":\"2018-12-16T20:46:31.104Z\",\"waitTime\":40},{\"date\":\"2018-12-16T20:50:35.560Z\",\"waitTime\":35},{\"date\":\"2018-12-16T20:56:46.206Z\",\"waitTime\":35},{\"date\":\"2018-12-16T21:01:47.823Z\",\"waitTime\":35},{\"date\":\"2018-12-16T21:05:33.607Z\",\"waitTime\":35},{\"date\":\"2018-12-16T21:10:33.470Z\",\"waitTime\":30},{\"date\":\"2018-12-16T21:15:43.424Z\",\"waitTime\":30},{\"date\":\"2018-12-16T21:21:35.060Z\",\"waitTime\":25},{\"date\":\"2018-12-16T21:25:42.504Z\",\"waitTime\":25},{\"date\":\"2018-12-16T21:33:42.524Z\",\"waitTime\":25},{\"date\":\"2018-12-16T21:35:32.741Z\",\"waitTime\":25},{\"date\":\"2018-12-16T21:41:41.123Z\",\"waitTime\":30},{\"date\":\"2018-12-16T21:45:33.750Z\",\"waitTime\":30},{\"date\":\"2018-12-16T21:55:40.843Z\",\"waitTime\":30},{\"date\":\"2018-12-16T22:00:33.523Z\",\"waitTime\":35},{\"date\":\"2018-12-16T22:08:34.824Z\",\"waitTime\":35},{\"date\":\"2018-12-16T22:11:41.084Z\",\"waitTime\":35},{\"date\":\"2018-12-16T22:15:49.670Z\",\"waitTime\":35},{\"date\":\"2018-12-16T22:25:43.950Z\",\"waitTime\":40},{\"date\":\"2018-12-16T22:31:46.945Z\",\"waitTime\":40},{\"date\":\"2018-12-16T22:35:31.729Z\",\"waitTime\":40},{\"date\":\"2018-12-16T22:48:25.786Z\",\"waitTime\":35},{\"date\":\"2018-12-16T22:51:40.909Z\",\"waitTime\":35}]};\n",
      "    window.attractionTimezone = \"America/New_York\";\n",
      "\n"
     ]
    }
   ],
   "source": [
    "print(all_scripts[1].text)"
   ]
  },
  {
   "cell_type": "code",
   "execution_count": 5,
   "metadata": {},
   "outputs": [],
   "source": [
    "#Assign to Parse variable and convert to string\n",
    "parse=(all_scripts[1].text)"
   ]
  },
  {
   "cell_type": "code",
   "execution_count": 6,
   "metadata": {},
   "outputs": [
    {
     "name": "stdout",
     "output_type": "stream",
     "text": [
      "\n",
      "    window.attractionWaitTimes = {\"open\":\"2018-12-16T12:45:00.000Z\",\"close\":\"2018-12-16T23:00:00.000Z\",\"waitTimes\":[{\"date\":\"2018-12-16T12:51:31.714Z\",\"waitTime\":5},{\"date\":\"2018-12-16T12:56:28.238Z\",\"waitTime\":5},{\"date\":\"2018-12-16T13:03:12.293Z\",\"waitTime\":5},{\"date\":\"2018-12-16T13:08:40.273Z\",\"waitTime\":10},{\"date\":\"2018-12-16T13:13:30.514Z\",\"waitTime\":10},{\"date\":\"2018-12-16T13:15:33.312Z\",\"waitTime\":10},{\"date\":\"2018-12-16T13:23:23.492Z\",\"waitTime\":10},{\"date\":\"2018-12-16T13:28:34.776Z\",\"waitTime\":10},{\"date\":\"2018-12-16T13:33:42.093Z\",\"waitTime\":10},{\"date\":\"2018-12-16T13:35:33.913Z\",\"waitTime\":10},{\"date\":\"2018-12-16T13:43:38.814Z\",\"waitTime\":10},{\"date\":\"2018-12-16T13:45:33.150Z\",\"waitTime\":10},{\"date\":\"2018-12-16T13:51:35.934Z\",\"waitTime\":10},{\"date\":\"2018-12-16T13:55:34.513Z\",\"waitTime\":10},{\"date\":\"2018-12-16T14:00:35.596Z\",\"waitTime\":5},{\"date\":\"2018-12-16T14:06:37.873Z\",\"waitTime\":5},{\"date\":\"2018-12-16T14:11:30.959Z\",\"waitTime\":10},{\"date\":\"2018-12-16T14:15:34.051Z\",\"waitTime\":10},{\"date\":\"2018-12-16T14:20:34.193Z\",\"waitTime\":10},{\"date\":\"2018-12-16T14:25:43.411Z\",\"waitTime\":10},{\"date\":\"2018-12-16T14:33:34.174Z\",\"waitTime\":10},{\"date\":\"2018-12-16T14:35:29.283Z\",\"waitTime\":10},{\"date\":\"2018-12-16T14:40:29.040Z\",\"waitTime\":10},{\"date\":\"2018-12-16T14:45:33.012Z\",\"waitTime\":10},{\"date\":\"2018-12-16T14:50:27.541Z\",\"waitTime\":10},{\"date\":\"2018-12-16T14:55:28.082Z\",\"waitTime\":10},{\"date\":\"2018-12-16T15:00:29.083Z\",\"waitTime\":10},{\"date\":\"2018-12-16T15:08:43.835Z\",\"waitTime\":10},{\"date\":\"2018-12-16T15:10:41.332Z\",\"waitTime\":10},{\"date\":\"2018-12-16T15:15:30.122Z\",\"waitTime\":10},{\"date\":\"2018-12-16T15:25:27.410Z\",\"waitTime\":10},{\"date\":\"2018-12-16T15:31:32.810Z\",\"waitTime\":10},{\"date\":\"2018-12-16T15:35:28.465Z\",\"waitTime\":15},{\"date\":\"2018-12-16T15:43:30.366Z\",\"waitTime\":15},{\"date\":\"2018-12-16T15:50:28.560Z\",\"waitTime\":20},{\"date\":\"2018-12-16T15:56:38.990Z\",\"waitTime\":20},{\"date\":\"2018-12-16T16:00:33.151Z\",\"waitTime\":20},{\"date\":\"2018-12-16T16:06:33.765Z\",\"waitTime\":20},{\"date\":\"2018-12-16T16:20:29.087Z\",\"waitTime\":20},{\"date\":\"2018-12-16T16:26:26.042Z\",\"waitTime\":20},{\"date\":\"2018-12-16T16:31:29.042Z\",\"waitTime\":20},{\"date\":\"2018-12-16T16:35:34.040Z\",\"waitTime\":20},{\"date\":\"2018-12-16T16:40:33.177Z\",\"waitTime\":20},{\"date\":\"2018-12-16T16:45:30.843Z\",\"waitTime\":20},{\"date\":\"2018-12-16T16:51:28.851Z\",\"waitTime\":20},{\"date\":\"2018-12-16T16:55:34.616Z\",\"waitTime\":20},{\"date\":\"2018-12-16T17:00:29.242Z\",\"waitTime\":25},{\"date\":\"2018-12-16T17:06:34.629Z\",\"waitTime\":25},{\"date\":\"2018-12-16T17:10:35.962Z\",\"waitTime\":30},{\"date\":\"2018-12-16T17:15:34.002Z\",\"waitTime\":25},{\"date\":\"2018-12-16T17:21:23.623Z\",\"waitTime\":25},{\"date\":\"2018-12-16T17:25:38.824Z\",\"waitTime\":25},{\"date\":\"2018-12-16T17:36:39.903Z\",\"waitTime\":30},{\"date\":\"2018-12-16T17:43:27.446Z\",\"waitTime\":30},{\"date\":\"2018-12-16T17:45:39.965Z\",\"waitTime\":25},{\"date\":\"2018-12-16T17:50:33.465Z\",\"waitTime\":30},{\"date\":\"2018-12-16T18:00:40.263Z\",\"waitTime\":30},{\"date\":\"2018-12-16T18:05:28.179Z\",\"waitTime\":30},{\"date\":\"2018-12-16T18:10:34.803Z\",\"waitTime\":30},{\"date\":\"2018-12-16T18:16:31.702Z\",\"waitTime\":25},{\"date\":\"2018-12-16T18:20:34.646Z\",\"waitTime\":25},{\"date\":\"2018-12-16T18:30:33.948Z\",\"waitTime\":25},{\"date\":\"2018-12-16T18:35:34.149Z\",\"waitTime\":25},{\"date\":\"2018-12-16T18:56:42.065Z\",\"waitTime\":30},{\"date\":\"2018-12-16T19:00:32.882Z\",\"waitTime\":30},{\"date\":\"2018-12-16T19:05:42.809Z\",\"waitTime\":30},{\"date\":\"2018-12-16T19:10:40.700Z\",\"waitTime\":40},{\"date\":\"2018-12-16T19:15:27.182Z\",\"waitTime\":30},{\"date\":\"2018-12-16T19:20:33.846Z\",\"waitTime\":40},{\"date\":\"2018-12-16T19:25:36.664Z\",\"waitTime\":40},{\"date\":\"2018-12-16T19:33:45.424Z\",\"waitTime\":35},{\"date\":\"2018-12-16T19:36:36.922Z\",\"waitTime\":35},{\"date\":\"2018-12-16T19:40:28.141Z\",\"waitTime\":35},{\"date\":\"2018-12-16T19:45:34.183Z\",\"waitTime\":30},{\"date\":\"2018-12-16T19:50:35.447Z\",\"waitTime\":25},{\"date\":\"2018-12-16T19:56:36.389Z\",\"waitTime\":30},{\"date\":\"2018-12-16T20:00:32.987Z\",\"waitTime\":30},{\"date\":\"2018-12-16T20:05:34.404Z\",\"waitTime\":35},{\"date\":\"2018-12-16T20:16:26.531Z\",\"waitTime\":40},{\"date\":\"2018-12-16T20:20:39.661Z\",\"waitTime\":40},{\"date\":\"2018-12-16T20:25:28.605Z\",\"waitTime\":40},{\"date\":\"2018-12-16T20:30:39.946Z\",\"waitTime\":45},{\"date\":\"2018-12-16T20:36:34.427Z\",\"waitTime\":45},{\"date\":\"2018-12-16T20:40:33.666Z\",\"waitTime\":45},{\"date\":\"2018-12-16T20:46:31.104Z\",\"waitTime\":40},{\"date\":\"2018-12-16T20:50:35.560Z\",\"waitTime\":35},{\"date\":\"2018-12-16T20:56:46.206Z\",\"waitTime\":35},{\"date\":\"2018-12-16T21:01:47.823Z\",\"waitTime\":35},{\"date\":\"2018-12-16T21:05:33.607Z\",\"waitTime\":35},{\"date\":\"2018-12-16T21:10:33.470Z\",\"waitTime\":30},{\"date\":\"2018-12-16T21:15:43.424Z\",\"waitTime\":30},{\"date\":\"2018-12-16T21:21:35.060Z\",\"waitTime\":25},{\"date\":\"2018-12-16T21:25:42.504Z\",\"waitTime\":25},{\"date\":\"2018-12-16T21:33:42.524Z\",\"waitTime\":25},{\"date\":\"2018-12-16T21:35:32.741Z\",\"waitTime\":25},{\"date\":\"2018-12-16T21:41:41.123Z\",\"waitTime\":30},{\"date\":\"2018-12-16T21:45:33.750Z\",\"waitTime\":30},{\"date\":\"2018-12-16T21:55:40.843Z\",\"waitTime\":30},{\"date\":\"2018-12-16T22:00:33.523Z\",\"waitTime\":35},{\"date\":\"2018-12-16T22:08:34.824Z\",\"waitTime\":35},{\"date\":\"2018-12-16T22:11:41.084Z\",\"waitTime\":35},{\"date\":\"2018-12-16T22:15:49.670Z\",\"waitTime\":35},{\"date\":\"2018-12-16T22:25:43.950Z\",\"waitTime\":40},{\"date\":\"2018-12-16T22:31:46.945Z\",\"waitTime\":40},{\"date\":\"2018-12-16T22:35:31.729Z\",\"waitTime\":40},{\"date\":\"2018-12-16T22:48:25.786Z\",\"waitTime\":35},{\"date\":\"2018-12-16T22:51:40.909Z\",\"waitTime\":35}]};\n",
      "    window.attractionTimezone = \"America/New_York\";\n",
      "\n"
     ]
    }
   ],
   "source": [
    "print parse"
   ]
  },
  {
   "cell_type": "code",
   "execution_count": 23,
   "metadata": {},
   "outputs": [
    {
     "name": "stdout",
     "output_type": "stream",
     "text": [
      " {\"open\":\"2018-12-16T12:45:00.000Z\",\"close\":\"2018-12-16T23:00:00.000Z\",\"waitTimes\":[{\"date\":\"2018-12-16T12:51:31.714Z\",\"waitTime\":5},{\"date\":\"2018-12-16T12:56:28.238Z\",\"waitTime\":5},{\"date\":\"2018-12-16T13:03:12.293Z\",\"waitTime\":5},{\"date\":\"2018-12-16T13:08:40.273Z\",\"waitTime\":10},{\"date\":\"2018-12-16T13:13:30.514Z\",\"waitTime\":10},{\"date\":\"2018-12-16T13:15:33.312Z\",\"waitTime\":10},{\"date\":\"2018-12-16T13:23:23.492Z\",\"waitTime\":10},{\"date\":\"2018-12-16T13:28:34.776Z\",\"waitTime\":10},{\"date\":\"2018-12-16T13:33:42.093Z\",\"waitTime\":10},{\"date\":\"2018-12-16T13:35:33.913Z\",\"waitTime\":10},{\"date\":\"2018-12-16T13:43:38.814Z\",\"waitTime\":10},{\"date\":\"2018-12-16T13:45:33.150Z\",\"waitTime\":10},{\"date\":\"2018-12-16T13:51:35.934Z\",\"waitTime\":10},{\"date\":\"2018-12-16T13:55:34.513Z\",\"waitTime\":10},{\"date\":\"2018-12-16T14:00:35.596Z\",\"waitTime\":5},{\"date\":\"2018-12-16T14:06:37.873Z\",\"waitTime\":5},{\"date\":\"2018-12-16T14:11:30.959Z\",\"waitTime\":10},{\"date\":\"2018-12-16T14:15:34.051Z\",\"waitTime\":10},{\"date\":\"2018-12-16T14:20:34.193Z\",\"waitTime\":10},{\"date\":\"2018-12-16T14:25:43.411Z\",\"waitTime\":10},{\"date\":\"2018-12-16T14:33:34.174Z\",\"waitTime\":10},{\"date\":\"2018-12-16T14:35:29.283Z\",\"waitTime\":10},{\"date\":\"2018-12-16T14:40:29.040Z\",\"waitTime\":10},{\"date\":\"2018-12-16T14:45:33.012Z\",\"waitTime\":10},{\"date\":\"2018-12-16T14:50:27.541Z\",\"waitTime\":10},{\"date\":\"2018-12-16T14:55:28.082Z\",\"waitTime\":10},{\"date\":\"2018-12-16T15:00:29.083Z\",\"waitTime\":10},{\"date\":\"2018-12-16T15:08:43.835Z\",\"waitTime\":10},{\"date\":\"2018-12-16T15:10:41.332Z\",\"waitTime\":10},{\"date\":\"2018-12-16T15:15:30.122Z\",\"waitTime\":10},{\"date\":\"2018-12-16T15:25:27.410Z\",\"waitTime\":10},{\"date\":\"2018-12-16T15:31:32.810Z\",\"waitTime\":10},{\"date\":\"2018-12-16T15:35:28.465Z\",\"waitTime\":15},{\"date\":\"2018-12-16T15:43:30.366Z\",\"waitTime\":15},{\"date\":\"2018-12-16T15:50:28.560Z\",\"waitTime\":20},{\"date\":\"2018-12-16T15:56:38.990Z\",\"waitTime\":20},{\"date\":\"2018-12-16T16:00:33.151Z\",\"waitTime\":20},{\"date\":\"2018-12-16T16:06:33.765Z\",\"waitTime\":20},{\"date\":\"2018-12-16T16:20:29.087Z\",\"waitTime\":20},{\"date\":\"2018-12-16T16:26:26.042Z\",\"waitTime\":20},{\"date\":\"2018-12-16T16:31:29.042Z\",\"waitTime\":20},{\"date\":\"2018-12-16T16:35:34.040Z\",\"waitTime\":20},{\"date\":\"2018-12-16T16:40:33.177Z\",\"waitTime\":20},{\"date\":\"2018-12-16T16:45:30.843Z\",\"waitTime\":20},{\"date\":\"2018-12-16T16:51:28.851Z\",\"waitTime\":20},{\"date\":\"2018-12-16T16:55:34.616Z\",\"waitTime\":20},{\"date\":\"2018-12-16T17:00:29.242Z\",\"waitTime\":25},{\"date\":\"2018-12-16T17:06:34.629Z\",\"waitTime\":25},{\"date\":\"2018-12-16T17:10:35.962Z\",\"waitTime\":30},{\"date\":\"2018-12-16T17:15:34.002Z\",\"waitTime\":25},{\"date\":\"2018-12-16T17:21:23.623Z\",\"waitTime\":25},{\"date\":\"2018-12-16T17:25:38.824Z\",\"waitTime\":25},{\"date\":\"2018-12-16T17:36:39.903Z\",\"waitTime\":30},{\"date\":\"2018-12-16T17:43:27.446Z\",\"waitTime\":30},{\"date\":\"2018-12-16T17:45:39.965Z\",\"waitTime\":25},{\"date\":\"2018-12-16T17:50:33.465Z\",\"waitTime\":30},{\"date\":\"2018-12-16T18:00:40.263Z\",\"waitTime\":30},{\"date\":\"2018-12-16T18:05:28.179Z\",\"waitTime\":30},{\"date\":\"2018-12-16T18:10:34.803Z\",\"waitTime\":30},{\"date\":\"2018-12-16T18:16:31.702Z\",\"waitTime\":25},{\"date\":\"2018-12-16T18:20:34.646Z\",\"waitTime\":25},{\"date\":\"2018-12-16T18:30:33.948Z\",\"waitTime\":25},{\"date\":\"2018-12-16T18:35:34.149Z\",\"waitTime\":25},{\"date\":\"2018-12-16T18:56:42.065Z\",\"waitTime\":30},{\"date\":\"2018-12-16T19:00:32.882Z\",\"waitTime\":30},{\"date\":\"2018-12-16T19:05:42.809Z\",\"waitTime\":30},{\"date\":\"2018-12-16T19:10:40.700Z\",\"waitTime\":40},{\"date\":\"2018-12-16T19:15:27.182Z\",\"waitTime\":30},{\"date\":\"2018-12-16T19:20:33.846Z\",\"waitTime\":40},{\"date\":\"2018-12-16T19:25:36.664Z\",\"waitTime\":40},{\"date\":\"2018-12-16T19:33:45.424Z\",\"waitTime\":35},{\"date\":\"2018-12-16T19:36:36.922Z\",\"waitTime\":35},{\"date\":\"2018-12-16T19:40:28.141Z\",\"waitTime\":35},{\"date\":\"2018-12-16T19:45:34.183Z\",\"waitTime\":30},{\"date\":\"2018-12-16T19:50:35.447Z\",\"waitTime\":25},{\"date\":\"2018-12-16T19:56:36.389Z\",\"waitTime\":30},{\"date\":\"2018-12-16T20:00:32.987Z\",\"waitTime\":30},{\"date\":\"2018-12-16T20:05:34.404Z\",\"waitTime\":35},{\"date\":\"2018-12-16T20:16:26.531Z\",\"waitTime\":40},{\"date\":\"2018-12-16T20:20:39.661Z\",\"waitTime\":40},{\"date\":\"2018-12-16T20:25:28.605Z\",\"waitTime\":40},{\"date\":\"2018-12-16T20:30:39.946Z\",\"waitTime\":45},{\"date\":\"2018-12-16T20:36:34.427Z\",\"waitTime\":45},{\"date\":\"2018-12-16T20:40:33.666Z\",\"waitTime\":45},{\"date\":\"2018-12-16T20:46:31.104Z\",\"waitTime\":40},{\"date\":\"2018-12-16T20:50:35.560Z\",\"waitTime\":35},{\"date\":\"2018-12-16T20:56:46.206Z\",\"waitTime\":35},{\"date\":\"2018-12-16T21:01:47.823Z\",\"waitTime\":35},{\"date\":\"2018-12-16T21:05:33.607Z\",\"waitTime\":35},{\"date\":\"2018-12-16T21:10:33.470Z\",\"waitTime\":30},{\"date\":\"2018-12-16T21:15:43.424Z\",\"waitTime\":30},{\"date\":\"2018-12-16T21:21:35.060Z\",\"waitTime\":25},{\"date\":\"2018-12-16T21:25:42.504Z\",\"waitTime\":25},{\"date\":\"2018-12-16T21:33:42.524Z\",\"waitTime\":25},{\"date\":\"2018-12-16T21:35:32.741Z\",\"waitTime\":25},{\"date\":\"2018-12-16T21:41:41.123Z\",\"waitTime\":30},{\"date\":\"2018-12-16T21:45:33.750Z\",\"waitTime\":30},{\"date\":\"2018-12-16T21:55:40.843Z\",\"waitTime\":30},{\"date\":\"2018-12-16T22:00:33.523Z\",\"waitTime\":35},{\"date\":\"2018-12-16T22:08:34.824Z\",\"waitTime\":35},{\"date\":\"2018-12-16T22:11:41.084Z\",\"waitTime\":35},{\"date\":\"2018-12-16T22:15:49.670Z\",\"waitTime\":35},{\"date\":\"2018-12-16T22:25:43.950Z\",\"waitTime\":40},{\"date\":\"2018-12-16T22:31:46.945Z\",\"waitTime\":40},{\"date\":\"2018-12-16T22:35:31.729Z\",\"waitTime\":40},{\"date\":\"2018-12-16T22:48:25.786Z\",\"waitTime\":35},{\"date\":\"2018-12-16T22:51:40.909Z\",\"waitTime\":35}]};\n",
      "    window.attractionTimezone = \"America/New_York\";\n",
      "\n"
     ]
    }
   ],
   "source": [
    "#Exclude the first instance of WaitTime\n",
    "parse = parse[33:]\n",
    "print parse"
   ]
  },
  {
   "cell_type": "code",
   "execution_count": 24,
   "metadata": {},
   "outputs": [
    {
     "name": "stdout",
     "output_type": "stream",
     "text": [
      "5484\n"
     ]
    }
   ],
   "source": [
    "print len(parse)"
   ]
  },
  {
   "cell_type": "code",
   "execution_count": 26,
   "metadata": {},
   "outputs": [
    {
     "name": "stdout",
     "output_type": "stream",
     "text": [
      "Empty DataFrame\n",
      "Columns: [Date, WaitTime]\n",
      "Index: []\n"
     ]
    }
   ],
   "source": [
    "import pandas as pd \n",
    "df = pd.DataFrame(columns=['Date','WaitTime'])\n",
    "print df\n"
   ]
  },
  {
   "cell_type": "code",
   "execution_count": 27,
   "metadata": {},
   "outputs": [
    {
     "name": "stdout",
     "output_type": "stream",
     "text": [
      "[u':5', u':5', u':5', u':10', u':10', u':10', u':10', u':10', u':10', u':10', u':10', u':10', u':10', u':10', u':5', u':5', u':10', u':10', u':10', u':10', u':10', u':10', u':10', u':10', u':10', u':10', u':10', u':10', u':10', u':10', u':10', u':10', u':15', u':15', u':20', u':20', u':20', u':20', u':20', u':20', u':20', u':20', u':20', u':20', u':20', u':20', u':25', u':25', u':30', u':25', u':25', u':25', u':30', u':30', u':25', u':30', u':30', u':30', u':30', u':25', u':25', u':25', u':25', u':30', u':30', u':30', u':40', u':30', u':40', u':40', u':35', u':35', u':35', u':30', u':25', u':30', u':30', u':35', u':40', u':40', u':40', u':45', u':45', u':45', u':40', u':35', u':35', u':35', u':35', u':30', u':30', u':25', u':25', u':25', u':25', u':30', u':30', u':30', u':35', u':35', u':35', u':35', u':40', u':40', u':40', u':35']\n"
     ]
    }
   ],
   "source": [
    "import re\n",
    "x=re.findall(r'waitTime\"(.*?)},',parse)\n",
    "print x\n",
    "\n",
    "\n"
   ]
  },
  {
   "cell_type": "code",
   "execution_count": 28,
   "metadata": {},
   "outputs": [
    {
     "name": "stdout",
     "output_type": "stream",
     "text": [
      "<type 'list'>\n",
      "<type 'list'>\n"
     ]
    }
   ],
   "source": [
    "import re\n",
    "columna = re.findall(\"waitTime\",parse)\n",
    "columnb = re.findall(r'waitTime\":(.*?)},',parse)\n",
    "print type(columna)\n",
    "print type(columnb)\n",
    "\n",
    "\n",
    "\n",
    "\n"
   ]
  },
  {
   "cell_type": "code",
   "execution_count": 29,
   "metadata": {},
   "outputs": [
    {
     "name": "stdout",
     "output_type": "stream",
     "text": [
      "    WaitTime\n",
      "0          5\n",
      "1          5\n",
      "2          5\n",
      "3         10\n",
      "4         10\n",
      "5         10\n",
      "6         10\n",
      "7         10\n",
      "8         10\n",
      "9         10\n",
      "10        10\n",
      "11        10\n",
      "12        10\n",
      "13        10\n",
      "14         5\n",
      "15         5\n",
      "16        10\n",
      "17        10\n",
      "18        10\n",
      "19        10\n",
      "20        10\n",
      "21        10\n",
      "22        10\n",
      "23        10\n",
      "24        10\n",
      "25        10\n",
      "26        10\n",
      "27        10\n",
      "28        10\n",
      "29        10\n",
      "..       ...\n",
      "76        30\n",
      "77        35\n",
      "78        40\n",
      "79        40\n",
      "80        40\n",
      "81        45\n",
      "82        45\n",
      "83        45\n",
      "84        40\n",
      "85        35\n",
      "86        35\n",
      "87        35\n",
      "88        35\n",
      "89        30\n",
      "90        30\n",
      "91        25\n",
      "92        25\n",
      "93        25\n",
      "94        25\n",
      "95        30\n",
      "96        30\n",
      "97        30\n",
      "98        35\n",
      "99        35\n",
      "100       35\n",
      "101       35\n",
      "102       40\n",
      "103       40\n",
      "104       40\n",
      "105       35\n",
      "\n",
      "[106 rows x 1 columns]\n"
     ]
    }
   ],
   "source": [
    "import pandas as pd\n",
    "df = pd.DataFrame({'WaitTime':columnb})\n",
    "print (df)"
   ]
  },
  {
   "cell_type": "code",
   "execution_count": 16,
   "metadata": {},
   "outputs": [],
   "source": [
    "#Finally, save the dataframe as a CSV\n",
    "#df.to_csv('rides.csv')\n",
    "\n"
   ]
  },
  {
   "cell_type": "code",
   "execution_count": null,
   "metadata": {},
   "outputs": [],
   "source": []
  }
 ],
 "metadata": {
  "kernelspec": {
   "display_name": "Python 2",
   "language": "python",
   "name": "python2"
  },
  "language_info": {
   "codemirror_mode": {
    "name": "ipython",
    "version": 2
   },
   "file_extension": ".py",
   "mimetype": "text/x-python",
   "name": "python",
   "nbconvert_exporter": "python",
   "pygments_lexer": "ipython2",
   "version": "2.7.15"
  }
 },
 "nbformat": 4,
 "nbformat_minor": 2
}
