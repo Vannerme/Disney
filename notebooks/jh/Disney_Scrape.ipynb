{
 "cells": [
  {
   "cell_type": "code",
   "execution_count": 1,
   "metadata": {},
   "outputs": [
    {
     "name": "stdout",
     "output_type": "stream",
     "text": [
      "<!DOCTYPE doctype html>\n",
      "\n",
      "<html>\n",
      "<head>\n",
      "<meta content=\"text/html;charset=utf-8\" http-equiv=\"content-type\"/>\n",
      "<meta charset=\"utf-8\"/>\n",
      "<title>\n",
      "      \n",
      "        \n",
      "        December 7, 2018 - Wait Times - \"it's a small world\" - Park Genius\n",
      "      \n",
      "    </title>\n",
      "<meta content=\"width=device-width, initial-scale=1.0, maximum-scale=1.0, user-scalable=no\" name=\"viewport\"/>\n",
      "<meta content=\"yes\" name=\"apple-mobile-web-app-capable\"/>\n",
      "<meta content=\"yes\" name=\"apple-touch-fullscreen\"/>\n",
      "<meta content=\"default\" name=\"apple-mobile-web-app-status-bar-style\"/>\n",
      "<meta content=\"Wait Times for &quot;it's a small world&quot;\" property=\"og:title\">\n",
      "<meta content=\"Wait Times for &quot;it's a small world&quot;\" property=\"twitter:title\">\n",
      "<meta content=\"Wait times (December 7, 2018) for &quot;it's a small world&quot; in Magic Kingdom.\" property=\"og:description\">\n",
      "<meta content=\"Wait times (December 7, 2018) for &quot;it's a small world&quot; in Magic Kingdom.\" property=\"twitter:description\"/>\n",
      "<meta content=\"summary\" name=\"twitter:card\"/>\n",
      "<!-- BEGIN Vendor CSS-->\n",
      "<link href=\"/static/assets/plugins/pace/pace-theme-minimal.css\" rel=\"stylesheet\" type=\"text/css\"/>\n",
      "<link href=\"/static/assets/plugins/bootstrapv3/css/bootstrap.min.css\" rel=\"stylesheet\" type=\"text/css\"/>\n",
      "<link href=\"/static/assets/plugins/font-awesome/css/font-awesome.css\" rel=\"stylesheet\" type=\"text/css\"/>\n",
      "<link href=\"/static/assets/plugins/jquery-scrollbar/jquery.scrollbar.css\" media=\"screen\" rel=\"stylesheet\" type=\"text/css\"/>\n",
      "<link href=\"/static/assets/plugins/bootstrap-select2/select2.css\" media=\"screen\" rel=\"stylesheet\" type=\"text/css\"/>\n",
      "<link href=\"/static/assets/plugins/switchery/css/switchery.min.css\" media=\"screen\" rel=\"stylesheet\" type=\"text/css\"/>\n",
      "<!-- BEGIN Pages CSS-->\n",
      "<link href=\"/static/pages/css/pages-icons.css\" rel=\"stylesheet\" type=\"text/css\"/>\n",
      "<link class=\"main-stylesheet\" href=\"/static/pages/css/pages.css\" rel=\"stylesheet\" type=\"text/css\">\n",
      "<!--[if lte IE 9]>\n",
      "        <link href=\"/static/pages/css/ie9.css\" rel=\"stylesheet\" type=\"text/css\" />\n",
      "    <![endif]-->\n",
      "<link class=\"main-stylesheet\" href=\"/static/assets/css/style.css\" rel=\"stylesheet\" type=\"text/css\"/>\n",
      "<script type=\"text/javascript\">\n",
      "    window.onload = function()\n",
      "    {\n",
      "      // fix for windows 8\n",
      "      if (navigator.appVersion.indexOf(\"Windows NT 6.2\") != -1)\n",
      "        document.head.innerHTML += '<link rel=\"stylesheet\" type=\"text/css\" href=\"/static/pages/css/windows.chrome.fix.css\" />'\n",
      "    }\n",
      "    </script>\n",
      "<link href=\"data:image/x-icon;base64,iVBORw0KGgoAAAANSUhEUgAAABAAAAAQEAYAAABPYyMiAAAABmJLR0T///////8JWPfcAAAACXBIWXMAAABIAAAASABGyWs+AAAAF0lEQVRIx2NgGAWjYBSMglEwCkbBSAcACBAAAeaR9cIAAAAASUVORK5CYII=\" rel=\"icon\" type=\"image/x-icon\"/>\n",
      "</link></meta></meta></meta></head>\n",
      "<body class=\"fixed-header menu-pin menu-behind\">\n",
      "<!-- BEGIN SIDEBAR -->\n",
      "<div class=\"page-sidebar\" data-pages=\"sidebar\">\n",
      "<div class=\"sidebar-overlay-slide from-top\" id=\"appMenu\">\n",
      "</div>\n",
      "<!-- BEGIN SIDEBAR HEADER -->\n",
      "<div class=\"sidebar-header\">\n",
      "<span class=\"brand-text\">park genius</span>\n",
      "</div>\n",
      "<!-- END SIDEBAR HEADER -->\n",
      "<!-- BEGIN SIDEBAR MENU -->\n",
      "<div class=\"sidebar-menu\">\n",
      "<ul class=\"menu-items\">\n",
      "<li class=\"m-t-30\">\n",
      "<a class=\"detailed\" href=\"/\">\n",
      "<span class=\"title\">Home</span>\n",
      "</a>\n",
      "<span class=\"icon-thumbnail\"><i class=\"fa fa-home\"></i></span>\n",
      "</li>\n",
      "<li>\n",
      "<a href=\"javascript:;\">\n",
      "<span class=\"title\">Disney World</span>\n",
      "<span class=\"arrow\"></span>\n",
      "</a>\n",
      "<span class=\"icon-thumbnail\">DW</span>\n",
      "<ul class=\"sub-menu\">\n",
      "<li>\n",
      "<a href=\"/disney-world/magic-kingdom\">\n",
      "<span class=\"title\">Magic Kingdom</span>\n",
      "</a>\n",
      "<span class=\"icon-thumbnail\">MK</span>\n",
      "</li>\n",
      "</ul>\n",
      "</li>\n",
      "</ul>\n",
      "<div class=\"clearfix\"></div>\n",
      "</div>\n",
      "<!-- END SIDEBAR MENU -->\n",
      "</div>\n",
      "<!-- END SIDEBAR -->\n",
      "<!-- START PAGE-CONTAINER -->\n",
      "<div class=\"page-container\">\n",
      "<!-- START PAGE HEADER WRAPPER -->\n",
      "<!-- START HEADER -->\n",
      "<div class=\"header \">\n",
      "<!-- START MOBILE CONTROLS -->\n",
      "<!-- LEFT SIDE -->\n",
      "<div class=\"pull-left full-height visible-sm visible-xs\">\n",
      "<!-- START ACTION BAR -->\n",
      "<div class=\"sm-action-bar\">\n",
      "<a class=\"btn-link toggle-sidebar\" data-toggle=\"sidebar\" href=\"#\">\n",
      "<span class=\"icon-set menu-hambuger\"></span>\n",
      "</a>\n",
      "</div>\n",
      "<!-- END ACTION BAR -->\n",
      "</div>\n",
      "<!-- RIGHT SIDE -->\n",
      "<div class=\"pull-right full-height visible-sm visible-xs\">\n",
      "<!-- START ACTION BAR -->\n",
      "<div class=\"sm-action-bar\">\n",
      "<a class=\"btn-link\" data-toggle=\"quickview\" data-toggle-element=\"#quickview\" href=\"#\">\n",
      "<span class=\"icon-set menu-hambuger-plus\"></span>\n",
      "</a>\n",
      "</div>\n",
      "<!-- END ACTION BAR -->\n",
      "</div>\n",
      "<!-- END MOBILE CONTROLS -->\n",
      "<div class=\" pull-left sm-table\">\n",
      "<div class=\"header-inner\">\n",
      "<div class=\"brand inline\">\n",
      "<span class=\"brand-text\">park genius</span>\n",
      "</div>\n",
      "</div>\n",
      "</div>\n",
      "</div>\n",
      "<!-- END HEADER -->\n",
      "<!-- END PAGE HEADER WRAPPER -->\n",
      "<!-- START PAGE CONTENT WRAPPER -->\n",
      "<div class=\"page-content-wrapper\">\n",
      "<!-- START PAGE CONTENT -->\n",
      "<div class=\"content\">\n",
      "<!-- START JUMBOTRON -->\n",
      "<!--<div class=\"jumbotron\" data-pages=\"parallax\">\n",
      "            <div class=\"container-fluid container-fixed-lg sm-p-l-20 sm-p-r-20\">\n",
      "              <div class=\"inner\">\n",
      "                <ul class=\"breadcrumb\">\n",
      "                  <li>\n",
      "                    <p>Pages</p>\n",
      "                  </li>\n",
      "                  <li><a href=\"#\" class=\"active\">Barebone template</a>\n",
      "                  </li>\n",
      "                </ul>\n",
      "              </div>\n",
      "            </div>\n",
      "          </div>-->\n",
      "<!-- END JUMBOTRON -->\n",
      "<!-- START CONTAINER FLUID -->\n",
      "<div class=\"container-fluid padding-25 sm-padding-10\">\n",
      "<!-- BEGIN PlACE PAGE CONTENT HERE -->\n",
      "<div class=\"sm-gutter\">\n",
      "<div class=\"container-fluid no-padding\">\n",
      "<div class=\"row\">\n",
      "<div class=\"col-md-9 m-b-10\">\n",
      "<h2>\"it's a small world\" <small>Wait Times for December 7, 2018</small></h2>\n",
      "<canvas id=\"chart\"></canvas>\n",
      "</div>\n",
      "<div class=\"col-md-3 m-b-10\">\n",
      "<div class=\"row m-b-10\">\n",
      "<div class=\"col-md-12\">\n",
      "<div class=\"panel no-border no-margin widget-attraction-current-wait widget-current-wait-its-a-small-world\">\n",
      "<div class=\"container-xs-height full-height\">\n",
      "<div class=\"row-xs-height\">\n",
      "<div class=\"col-xs-height col-top\">\n",
      "<div class=\"panel-heading top-left top-right\">\n",
      "<div class=\"panel-title text-black\">\n",
      "<span class=\"font-montserrat fs-11 all-caps\">\n",
      "                            Current Wait <i class=\"fa fa-chevron-right\"></i>\n",
      "</span>\n",
      "</div>\n",
      "</div>\n",
      "</div>\n",
      "</div>\n",
      "<div class=\"row-xs-height\">\n",
      "<div class=\"col-xs-height col-top\">\n",
      "<div class=\"p-l-20 p-t-60 p-b-20 p-r-20\">\n",
      "<h1 class=\"no-margin p-b-10\">\n",
      "                        \n",
      "                            N/A\n",
      "                        \n",
      "                    </h1>\n",
      "</div>\n",
      "</div>\n",
      "</div>\n",
      "<div class=\"row-xs-height\">\n",
      "<div class=\"col-xs-height col-bottom\">\n",
      "<div class=\"progress progress-small m-b-0\">\n",
      "<div class=\"progress-bar progress-bar-primary\" style=\"width: 0%\"></div>\n",
      "</div>\n",
      "</div>\n",
      "</div>\n",
      "</div>\n",
      "</div>\n",
      "</div>\n",
      "</div>\n",
      "</div>\n",
      "</div>\n",
      "</div>\n",
      "</div>\n",
      "<script type=\"text/javascript\">\n",
      "    window.attractionWaitTimes = {\"open\":\"2018-12-07T13:00:00.000Z\",\"close\":\"2018-12-07T23:00:00.000Z\",\"waitTimes\":[{\"date\":\"2018-12-07T13:05:36.136Z\",\"waitTime\":5},{\"date\":\"2018-12-07T13:13:50.559Z\",\"waitTime\":5},{\"date\":\"2018-12-07T13:15:33.719Z\",\"waitTime\":10},{\"date\":\"2018-12-07T13:20:34.259Z\",\"waitTime\":10},{\"date\":\"2018-12-07T13:25:33.603Z\",\"waitTime\":10},{\"date\":\"2018-12-07T13:33:35.438Z\",\"waitTime\":10},{\"date\":\"2018-12-07T13:38:27.397Z\",\"waitTime\":10},{\"date\":\"2018-12-07T13:40:35.076Z\",\"waitTime\":10},{\"date\":\"2018-12-07T13:45:33.657Z\",\"waitTime\":10},{\"date\":\"2018-12-07T13:50:33.479Z\",\"waitTime\":10},{\"date\":\"2018-12-07T13:58:29.217Z\",\"waitTime\":10},{\"date\":\"2018-12-07T14:03:38.106Z\",\"waitTime\":10},{\"date\":\"2018-12-07T14:05:35.764Z\",\"waitTime\":10},{\"date\":\"2018-12-07T14:13:24.499Z\",\"waitTime\":10},{\"date\":\"2018-12-07T14:21:35.897Z\",\"waitTime\":10},{\"date\":\"2018-12-07T14:35:29.586Z\",\"waitTime\":10},{\"date\":\"2018-12-07T14:40:34.296Z\",\"waitTime\":10},{\"date\":\"2018-12-07T14:46:37.443Z\",\"waitTime\":10},{\"date\":\"2018-12-07T14:50:34.156Z\",\"waitTime\":10},{\"date\":\"2018-12-07T14:56:31.805Z\",\"waitTime\":10},{\"date\":\"2018-12-07T15:00:38.707Z\",\"waitTime\":10},{\"date\":\"2018-12-07T15:05:30.629Z\",\"waitTime\":10},{\"date\":\"2018-12-07T15:10:28.768Z\",\"waitTime\":10},{\"date\":\"2018-12-07T15:15:30.006Z\",\"waitTime\":10},{\"date\":\"2018-12-07T15:20:28.788Z\",\"waitTime\":10},{\"date\":\"2018-12-07T15:25:30.048Z\",\"waitTime\":10},{\"date\":\"2018-12-07T15:30:37.086Z\",\"waitTime\":10},{\"date\":\"2018-12-07T15:36:32.046Z\",\"waitTime\":10},{\"date\":\"2018-12-07T15:40:33.704Z\",\"waitTime\":10},{\"date\":\"2018-12-07T15:45:33.686Z\",\"waitTime\":10},{\"date\":\"2018-12-07T15:50:29.388Z\",\"waitTime\":10},{\"date\":\"2018-12-07T15:55:28.406Z\",\"waitTime\":10},{\"date\":\"2018-12-07T16:05:29.268Z\",\"waitTime\":15},{\"date\":\"2018-12-07T16:10:29.389Z\",\"waitTime\":15},{\"date\":\"2018-12-07T16:15:40.651Z\",\"waitTime\":15},{\"date\":\"2018-12-07T16:20:34.047Z\",\"waitTime\":15},{\"date\":\"2018-12-07T16:38:50.870Z\",\"waitTime\":15},{\"date\":\"2018-12-07T16:40:28.628Z\",\"waitTime\":20},{\"date\":\"2018-12-07T16:45:32.806Z\",\"waitTime\":20},{\"date\":\"2018-12-07T16:50:28.908Z\",\"waitTime\":20},{\"date\":\"2018-12-07T16:56:33.453Z\",\"waitTime\":25},{\"date\":\"2018-12-07T17:00:32.867Z\",\"waitTime\":25},{\"date\":\"2018-12-07T17:10:34.307Z\",\"waitTime\":25},{\"date\":\"2018-12-07T17:23:38.886Z\",\"waitTime\":30},{\"date\":\"2018-12-07T17:25:34.812Z\",\"waitTime\":25},{\"date\":\"2018-12-07T17:30:33.186Z\",\"waitTime\":20},{\"date\":\"2018-12-07T17:35:28.708Z\",\"waitTime\":15},{\"date\":\"2018-12-07T17:40:28.626Z\",\"waitTime\":15},{\"date\":\"2018-12-07T17:45:33.707Z\",\"waitTime\":15},{\"date\":\"2018-12-07T17:51:33.406Z\",\"waitTime\":15},{\"date\":\"2018-12-07T17:55:33.048Z\",\"waitTime\":15},{\"date\":\"2018-12-07T18:00:33.905Z\",\"waitTime\":15},{\"date\":\"2018-12-07T18:06:35.107Z\",\"waitTime\":15},{\"date\":\"2018-12-07T18:10:34.152Z\",\"waitTime\":15},{\"date\":\"2018-12-07T18:20:33.352Z\",\"waitTime\":20},{\"date\":\"2018-12-07T18:25:28.346Z\",\"waitTime\":25},{\"date\":\"2018-12-07T18:33:31.287Z\",\"waitTime\":30},{\"date\":\"2018-12-07T18:36:41.504Z\",\"waitTime\":30},{\"date\":\"2018-12-07T18:41:32.846Z\",\"waitTime\":30},{\"date\":\"2018-12-07T18:45:39.724Z\",\"waitTime\":30},{\"date\":\"2018-12-07T18:55:33.714Z\",\"waitTime\":30},{\"date\":\"2018-12-07T19:00:30.867Z\",\"waitTime\":30},{\"date\":\"2018-12-07T19:05:30.287Z\",\"waitTime\":30},{\"date\":\"2018-12-07T19:10:35.487Z\",\"waitTime\":30},{\"date\":\"2018-12-07T19:15:34.009Z\",\"waitTime\":20},{\"date\":\"2018-12-07T19:21:34.752Z\",\"waitTime\":20},{\"date\":\"2018-12-07T19:25:33.867Z\",\"waitTime\":20},{\"date\":\"2018-12-07T19:36:31.429Z\",\"waitTime\":15},{\"date\":\"2018-12-07T19:43:22.170Z\",\"waitTime\":15},{\"date\":\"2018-12-07T19:48:28.049Z\",\"waitTime\":20},{\"date\":\"2018-12-07T19:53:43.987Z\",\"waitTime\":20},{\"date\":\"2018-12-07T19:55:29.054Z\",\"waitTime\":20},{\"date\":\"2018-12-07T20:00:33.867Z\",\"waitTime\":20},{\"date\":\"2018-12-07T20:05:33.065Z\",\"waitTime\":25},{\"date\":\"2018-12-07T20:10:34.066Z\",\"waitTime\":30},{\"date\":\"2018-12-07T20:18:27.969Z\",\"waitTime\":35},{\"date\":\"2018-12-07T20:25:34.887Z\",\"waitTime\":40},{\"date\":\"2018-12-07T20:31:34.546Z\",\"waitTime\":40},{\"date\":\"2018-12-07T20:35:32.711Z\",\"waitTime\":40},{\"date\":\"2018-12-07T20:40:40.249Z\",\"waitTime\":35},{\"date\":\"2018-12-07T20:45:33.708Z\",\"waitTime\":35},{\"date\":\"2018-12-07T20:50:37.609Z\",\"waitTime\":35},{\"date\":\"2018-12-07T20:58:22.908Z\",\"waitTime\":20},{\"date\":\"2018-12-07T21:00:32.909Z\",\"waitTime\":20},{\"date\":\"2018-12-07T21:08:36.067Z\",\"waitTime\":25},{\"date\":\"2018-12-07T21:10:36.809Z\",\"waitTime\":25},{\"date\":\"2018-12-07T21:20:34.087Z\",\"waitTime\":25},{\"date\":\"2018-12-07T21:25:40.766Z\",\"waitTime\":30},{\"date\":\"2018-12-07T21:33:21.487Z\",\"waitTime\":25},{\"date\":\"2018-12-07T21:36:43.469Z\",\"waitTime\":25},{\"date\":\"2018-12-07T21:41:40.978Z\",\"waitTime\":20},{\"date\":\"2018-12-07T21:46:28.986Z\",\"waitTime\":20},{\"date\":\"2018-12-07T21:56:40.108Z\",\"waitTime\":15},{\"date\":\"2018-12-07T22:00:33.447Z\",\"waitTime\":15},{\"date\":\"2018-12-07T22:05:35.297Z\",\"waitTime\":15},{\"date\":\"2018-12-07T22:18:36.046Z\",\"waitTime\":20},{\"date\":\"2018-12-07T22:20:35.228Z\",\"waitTime\":25},{\"date\":\"2018-12-07T22:26:38.330Z\",\"waitTime\":25},{\"date\":\"2018-12-07T22:35:40.267Z\",\"waitTime\":30},{\"date\":\"2018-12-07T22:45:34.497Z\",\"waitTime\":30},{\"date\":\"2018-12-07T22:51:33.046Z\",\"waitTime\":25},{\"date\":\"2018-12-07T22:56:38.766Z\",\"waitTime\":25}]};\n",
      "    window.attractionTimezone = \"America/New_York\";\n",
      "</script>\n",
      "<!-- END PLACE PAGE CONTENT HERE -->\n",
      "</div>\n",
      "<!-- END CONTAINER FLUID -->\n",
      "</div>\n",
      "<!-- END PAGE CONTENT -->\n",
      "<!-- START FOOTER -->\n",
      "<div class=\"container-fluid container-fixed-lg footer\">\n",
      "<div class=\"copyright sm-text-center\">\n",
      "<p class=\"small no-margin pull-left sm-pull-reset\">\n",
      "<span class=\"hint-text\">Copyright © 2018</span>\n",
      "<span class=\"font-montserrat\">WizardApps</span>.\n",
      "        <span class=\"hint-text\">All rights reserved.</span>\n",
      "<span class=\"sm-block\"><a class=\"m-l-10 m-r-10\" href=\"#\">Terms of use</a>\n",
      "</span>\n",
      "</p>\n",
      "<div class=\"clearfix\"></div>\n",
      "</div>\n",
      "</div>\n",
      "<!-- END FOOTER -->\n",
      "</div>\n",
      "<!-- END PAGE CONTENT WRAPPER -->\n",
      "</div>\n",
      "<!-- END PAGE CONTAINER -->\n",
      "<!-- BEGIN VENDOR JS -->\n",
      "<script src=\"/static/assets/plugins/pace/pace.min.js\" type=\"text/javascript\"></script>\n",
      "<script src=\"/static/assets/plugins/jquery/jquery-1.11.1.min.js\" type=\"text/javascript\"></script>\n",
      "<script src=\"/static/assets/plugins/modernizr.custom.js\" type=\"text/javascript\"></script>\n",
      "<script src=\"/static/assets/plugins/bootstrapv3/js/bootstrap.min.js\" type=\"text/javascript\"></script>\n",
      "<script src=\"/static/assets/plugins/jquery-scrollbar/jquery.scrollbar.min.js\"></script>\n",
      "<!-- END VENDOR JS -->\n",
      "<!-- BEGIN CORE TEMPLATE JS -->\n",
      "<script src=\"/static/pages/js/pages.js\" type=\"text/javascript\"></script>\n",
      "<!-- END CORE TEMPLATE JS -->\n",
      "<!-- BEGIN PAGE LEVEL JS -->\n",
      "<script src=\"/static/assets/js/scripts.js\" type=\"text/javascript\"></script>\n",
      "<!-- END PAGE LEVEL JS -->\n",
      "<script src=\"/static/assets/plugins/moment/moment.min.js\"></script>\n",
      "<script src=\"/static/assets/plugins/moment/moment-timezone-with-data-2012-2022.js\"></script>\n",
      "<script src=\"/static/assets/plugins/chartjs/Chart.min.js\"></script>\n",
      "<script src=\"/static/assets/plugins/chartjs/Chart.plugin.annotation.min.js\"></script>\n",
      "<script src=\"/static/assets/js/attraction-wait-times.js\"></script>\n",
      "</body>\n",
      "</html>\n"
     ]
    }
   ],
   "source": [
    "# import libraries\n",
    "from bs4 import BeautifulSoup\n",
    "import urllib2\n",
    "import requests\n",
    "\n",
    "# Identify the URL and create a soup object\n",
    "url = \"https://www.parkgeni.us/disney-world/magic-kingdom/its-a-small-world/wait-times/2018-12-07\"\n",
    "\n",
    "response = requests.get(url)\n",
    "\n",
    "soup = BeautifulSoup(response.text, 'html.parser')\n",
    "\n",
    "print soup\n",
    "\n",
    "\n",
    "\n",
    "\n"
   ]
  },
  {
   "cell_type": "code",
   "execution_count": 2,
   "metadata": {},
   "outputs": [],
   "source": [
    "#Find the Script tag with the java object\n",
    "all_scripts = soup.find_all('script')"
   ]
  },
  {
   "cell_type": "code",
   "execution_count": 3,
   "metadata": {},
   "outputs": [
    {
     "name": "stdout",
     "output_type": "stream",
     "text": [
      "\n"
     ]
    }
   ],
   "source": [
    "print(all_scripts[6].text[:100])"
   ]
  },
  {
   "cell_type": "code",
   "execution_count": 4,
   "metadata": {},
   "outputs": [
    {
     "name": "stdout",
     "output_type": "stream",
     "text": [
      "\n",
      "    window.attractionWaitTimes = {\"open\":\"2018-12-07T13:00:00.000Z\",\"close\":\"2018-12-07T23:00:00.000Z\",\"waitTimes\":[{\"date\":\"2018-12-07T13:05:36.136Z\",\"waitTime\":5},{\"date\":\"2018-12-07T13:13:50.559Z\",\"waitTime\":5},{\"date\":\"2018-12-07T13:15:33.719Z\",\"waitTime\":10},{\"date\":\"2018-12-07T13:20:34.259Z\",\"waitTime\":10},{\"date\":\"2018-12-07T13:25:33.603Z\",\"waitTime\":10},{\"date\":\"2018-12-07T13:33:35.438Z\",\"waitTime\":10},{\"date\":\"2018-12-07T13:38:27.397Z\",\"waitTime\":10},{\"date\":\"2018-12-07T13:40:35.076Z\",\"waitTime\":10},{\"date\":\"2018-12-07T13:45:33.657Z\",\"waitTime\":10},{\"date\":\"2018-12-07T13:50:33.479Z\",\"waitTime\":10},{\"date\":\"2018-12-07T13:58:29.217Z\",\"waitTime\":10},{\"date\":\"2018-12-07T14:03:38.106Z\",\"waitTime\":10},{\"date\":\"2018-12-07T14:05:35.764Z\",\"waitTime\":10},{\"date\":\"2018-12-07T14:13:24.499Z\",\"waitTime\":10},{\"date\":\"2018-12-07T14:21:35.897Z\",\"waitTime\":10},{\"date\":\"2018-12-07T14:35:29.586Z\",\"waitTime\":10},{\"date\":\"2018-12-07T14:40:34.296Z\",\"waitTime\":10},{\"date\":\"2018-12-07T14:46:37.443Z\",\"waitTime\":10},{\"date\":\"2018-12-07T14:50:34.156Z\",\"waitTime\":10},{\"date\":\"2018-12-07T14:56:31.805Z\",\"waitTime\":10},{\"date\":\"2018-12-07T15:00:38.707Z\",\"waitTime\":10},{\"date\":\"2018-12-07T15:05:30.629Z\",\"waitTime\":10},{\"date\":\"2018-12-07T15:10:28.768Z\",\"waitTime\":10},{\"date\":\"2018-12-07T15:15:30.006Z\",\"waitTime\":10},{\"date\":\"2018-12-07T15:20:28.788Z\",\"waitTime\":10},{\"date\":\"2018-12-07T15:25:30.048Z\",\"waitTime\":10},{\"date\":\"2018-12-07T15:30:37.086Z\",\"waitTime\":10},{\"date\":\"2018-12-07T15:36:32.046Z\",\"waitTime\":10},{\"date\":\"2018-12-07T15:40:33.704Z\",\"waitTime\":10},{\"date\":\"2018-12-07T15:45:33.686Z\",\"waitTime\":10},{\"date\":\"2018-12-07T15:50:29.388Z\",\"waitTime\":10},{\"date\":\"2018-12-07T15:55:28.406Z\",\"waitTime\":10},{\"date\":\"2018-12-07T16:05:29.268Z\",\"waitTime\":15},{\"date\":\"2018-12-07T16:10:29.389Z\",\"waitTime\":15},{\"date\":\"2018-12-07T16:15:40.651Z\",\"waitTime\":15},{\"date\":\"2018-12-07T16:20:34.047Z\",\"waitTime\":15},{\"date\":\"2018-12-07T16:38:50.870Z\",\"waitTime\":15},{\"date\":\"2018-12-07T16:40:28.628Z\",\"waitTime\":20},{\"date\":\"2018-12-07T16:45:32.806Z\",\"waitTime\":20},{\"date\":\"2018-12-07T16:50:28.908Z\",\"waitTime\":20},{\"date\":\"2018-12-07T16:56:33.453Z\",\"waitTime\":25},{\"date\":\"2018-12-07T17:00:32.867Z\",\"waitTime\":25},{\"date\":\"2018-12-07T17:10:34.307Z\",\"waitTime\":25},{\"date\":\"2018-12-07T17:23:38.886Z\",\"waitTime\":30},{\"date\":\"2018-12-07T17:25:34.812Z\",\"waitTime\":25},{\"date\":\"2018-12-07T17:30:33.186Z\",\"waitTime\":20},{\"date\":\"2018-12-07T17:35:28.708Z\",\"waitTime\":15},{\"date\":\"2018-12-07T17:40:28.626Z\",\"waitTime\":15},{\"date\":\"2018-12-07T17:45:33.707Z\",\"waitTime\":15},{\"date\":\"2018-12-07T17:51:33.406Z\",\"waitTime\":15},{\"date\":\"2018-12-07T17:55:33.048Z\",\"waitTime\":15},{\"date\":\"2018-12-07T18:00:33.905Z\",\"waitTime\":15},{\"date\":\"2018-12-07T18:06:35.107Z\",\"waitTime\":15},{\"date\":\"2018-12-07T18:10:34.152Z\",\"waitTime\":15},{\"date\":\"2018-12-07T18:20:33.352Z\",\"waitTime\":20},{\"date\":\"2018-12-07T18:25:28.346Z\",\"waitTime\":25},{\"date\":\"2018-12-07T18:33:31.287Z\",\"waitTime\":30},{\"date\":\"2018-12-07T18:36:41.504Z\",\"waitTime\":30},{\"date\":\"2018-12-07T18:41:32.846Z\",\"waitTime\":30},{\"date\":\"2018-12-07T18:45:39.724Z\",\"waitTime\":30},{\"date\":\"2018-12-07T18:55:33.714Z\",\"waitTime\":30},{\"date\":\"2018-12-07T19:00:30.867Z\",\"waitTime\":30},{\"date\":\"2018-12-07T19:05:30.287Z\",\"waitTime\":30},{\"date\":\"2018-12-07T19:10:35.487Z\",\"waitTime\":30},{\"date\":\"2018-12-07T19:15:34.009Z\",\"waitTime\":20},{\"date\":\"2018-12-07T19:21:34.752Z\",\"waitTime\":20},{\"date\":\"2018-12-07T19:25:33.867Z\",\"waitTime\":20},{\"date\":\"2018-12-07T19:36:31.429Z\",\"waitTime\":15},{\"date\":\"2018-12-07T19:43:22.170Z\",\"waitTime\":15},{\"date\":\"2018-12-07T19:48:28.049Z\",\"waitTime\":20},{\"date\":\"2018-12-07T19:53:43.987Z\",\"waitTime\":20},{\"date\":\"2018-12-07T19:55:29.054Z\",\"waitTime\":20},{\"date\":\"2018-12-07T20:00:33.867Z\",\"waitTime\":20},{\"date\":\"2018-12-07T20:05:33.065Z\",\"waitTime\":25},{\"date\":\"2018-12-07T20:10:34.066Z\",\"waitTime\":30},{\"date\":\"2018-12-07T20:18:27.969Z\",\"waitTime\":35},{\"date\":\"2018-12-07T20:25:34.887Z\",\"waitTime\":40},{\"date\":\"2018-12-07T20:31:34.546Z\",\"waitTime\":40},{\"date\":\"2018-12-07T20:35:32.711Z\",\"waitTime\":40},{\"date\":\"2018-12-07T20:40:40.249Z\",\"waitTime\":35},{\"date\":\"2018-12-07T20:45:33.708Z\",\"waitTime\":35},{\"date\":\"2018-12-07T20:50:37.609Z\",\"waitTime\":35},{\"date\":\"2018-12-07T20:58:22.908Z\",\"waitTime\":20},{\"date\":\"2018-12-07T21:00:32.909Z\",\"waitTime\":20},{\"date\":\"2018-12-07T21:08:36.067Z\",\"waitTime\":25},{\"date\":\"2018-12-07T21:10:36.809Z\",\"waitTime\":25},{\"date\":\"2018-12-07T21:20:34.087Z\",\"waitTime\":25},{\"date\":\"2018-12-07T21:25:40.766Z\",\"waitTime\":30},{\"date\":\"2018-12-07T21:33:21.487Z\",\"waitTime\":25},{\"date\":\"2018-12-07T21:36:43.469Z\",\"waitTime\":25},{\"date\":\"2018-12-07T21:41:40.978Z\",\"waitTime\":20},{\"date\":\"2018-12-07T21:46:28.986Z\",\"waitTime\":20},{\"date\":\"2018-12-07T21:56:40.108Z\",\"waitTime\":15},{\"date\":\"2018-12-07T22:00:33.447Z\",\"waitTime\":15},{\"date\":\"2018-12-07T22:05:35.297Z\",\"waitTime\":15},{\"date\":\"2018-12-07T22:18:36.046Z\",\"waitTime\":20},{\"date\":\"2018-12-07T22:20:35.228Z\",\"waitTime\":25},{\"date\":\"2018-12-07T22:26:38.330Z\",\"waitTime\":25},{\"date\":\"2018-12-07T22:35:40.267Z\",\"waitTime\":30},{\"date\":\"2018-12-07T22:45:34.497Z\",\"waitTime\":30},{\"date\":\"2018-12-07T22:51:33.046Z\",\"waitTime\":25},{\"date\":\"2018-12-07T22:56:38.766Z\",\"waitTime\":25}]};\n",
      "    window.attractionTimezone = \"America/New_York\";\n",
      "\n"
     ]
    }
   ],
   "source": [
    "print(all_scripts[1].text)"
   ]
  },
  {
   "cell_type": "code",
   "execution_count": 5,
   "metadata": {},
   "outputs": [],
   "source": [
    "#Conver to string\n",
    "parse=(all_scripts[1].text)"
   ]
  },
  {
   "cell_type": "code",
   "execution_count": 6,
   "metadata": {},
   "outputs": [
    {
     "name": "stdout",
     "output_type": "stream",
     "text": [
      "\n",
      "    window.attractionWaitTimes = {\"open\":\"2018-12-07T13:00:00.000Z\",\"close\":\"2018-12-07T23:00:00.000Z\",\"waitTimes\":[{\"date\":\"2018-12-07T13:05:36.136Z\",\"waitTime\":5},{\"date\":\"2018-12-07T13:13:50.559Z\",\"waitTime\":5},{\"date\":\"2018-12-07T13:15:33.719Z\",\"waitTime\":10},{\"date\":\"2018-12-07T13:20:34.259Z\",\"waitTime\":10},{\"date\":\"2018-12-07T13:25:33.603Z\",\"waitTime\":10},{\"date\":\"2018-12-07T13:33:35.438Z\",\"waitTime\":10},{\"date\":\"2018-12-07T13:38:27.397Z\",\"waitTime\":10},{\"date\":\"2018-12-07T13:40:35.076Z\",\"waitTime\":10},{\"date\":\"2018-12-07T13:45:33.657Z\",\"waitTime\":10},{\"date\":\"2018-12-07T13:50:33.479Z\",\"waitTime\":10},{\"date\":\"2018-12-07T13:58:29.217Z\",\"waitTime\":10},{\"date\":\"2018-12-07T14:03:38.106Z\",\"waitTime\":10},{\"date\":\"2018-12-07T14:05:35.764Z\",\"waitTime\":10},{\"date\":\"2018-12-07T14:13:24.499Z\",\"waitTime\":10},{\"date\":\"2018-12-07T14:21:35.897Z\",\"waitTime\":10},{\"date\":\"2018-12-07T14:35:29.586Z\",\"waitTime\":10},{\"date\":\"2018-12-07T14:40:34.296Z\",\"waitTime\":10},{\"date\":\"2018-12-07T14:46:37.443Z\",\"waitTime\":10},{\"date\":\"2018-12-07T14:50:34.156Z\",\"waitTime\":10},{\"date\":\"2018-12-07T14:56:31.805Z\",\"waitTime\":10},{\"date\":\"2018-12-07T15:00:38.707Z\",\"waitTime\":10},{\"date\":\"2018-12-07T15:05:30.629Z\",\"waitTime\":10},{\"date\":\"2018-12-07T15:10:28.768Z\",\"waitTime\":10},{\"date\":\"2018-12-07T15:15:30.006Z\",\"waitTime\":10},{\"date\":\"2018-12-07T15:20:28.788Z\",\"waitTime\":10},{\"date\":\"2018-12-07T15:25:30.048Z\",\"waitTime\":10},{\"date\":\"2018-12-07T15:30:37.086Z\",\"waitTime\":10},{\"date\":\"2018-12-07T15:36:32.046Z\",\"waitTime\":10},{\"date\":\"2018-12-07T15:40:33.704Z\",\"waitTime\":10},{\"date\":\"2018-12-07T15:45:33.686Z\",\"waitTime\":10},{\"date\":\"2018-12-07T15:50:29.388Z\",\"waitTime\":10},{\"date\":\"2018-12-07T15:55:28.406Z\",\"waitTime\":10},{\"date\":\"2018-12-07T16:05:29.268Z\",\"waitTime\":15},{\"date\":\"2018-12-07T16:10:29.389Z\",\"waitTime\":15},{\"date\":\"2018-12-07T16:15:40.651Z\",\"waitTime\":15},{\"date\":\"2018-12-07T16:20:34.047Z\",\"waitTime\":15},{\"date\":\"2018-12-07T16:38:50.870Z\",\"waitTime\":15},{\"date\":\"2018-12-07T16:40:28.628Z\",\"waitTime\":20},{\"date\":\"2018-12-07T16:45:32.806Z\",\"waitTime\":20},{\"date\":\"2018-12-07T16:50:28.908Z\",\"waitTime\":20},{\"date\":\"2018-12-07T16:56:33.453Z\",\"waitTime\":25},{\"date\":\"2018-12-07T17:00:32.867Z\",\"waitTime\":25},{\"date\":\"2018-12-07T17:10:34.307Z\",\"waitTime\":25},{\"date\":\"2018-12-07T17:23:38.886Z\",\"waitTime\":30},{\"date\":\"2018-12-07T17:25:34.812Z\",\"waitTime\":25},{\"date\":\"2018-12-07T17:30:33.186Z\",\"waitTime\":20},{\"date\":\"2018-12-07T17:35:28.708Z\",\"waitTime\":15},{\"date\":\"2018-12-07T17:40:28.626Z\",\"waitTime\":15},{\"date\":\"2018-12-07T17:45:33.707Z\",\"waitTime\":15},{\"date\":\"2018-12-07T17:51:33.406Z\",\"waitTime\":15},{\"date\":\"2018-12-07T17:55:33.048Z\",\"waitTime\":15},{\"date\":\"2018-12-07T18:00:33.905Z\",\"waitTime\":15},{\"date\":\"2018-12-07T18:06:35.107Z\",\"waitTime\":15},{\"date\":\"2018-12-07T18:10:34.152Z\",\"waitTime\":15},{\"date\":\"2018-12-07T18:20:33.352Z\",\"waitTime\":20},{\"date\":\"2018-12-07T18:25:28.346Z\",\"waitTime\":25},{\"date\":\"2018-12-07T18:33:31.287Z\",\"waitTime\":30},{\"date\":\"2018-12-07T18:36:41.504Z\",\"waitTime\":30},{\"date\":\"2018-12-07T18:41:32.846Z\",\"waitTime\":30},{\"date\":\"2018-12-07T18:45:39.724Z\",\"waitTime\":30},{\"date\":\"2018-12-07T18:55:33.714Z\",\"waitTime\":30},{\"date\":\"2018-12-07T19:00:30.867Z\",\"waitTime\":30},{\"date\":\"2018-12-07T19:05:30.287Z\",\"waitTime\":30},{\"date\":\"2018-12-07T19:10:35.487Z\",\"waitTime\":30},{\"date\":\"2018-12-07T19:15:34.009Z\",\"waitTime\":20},{\"date\":\"2018-12-07T19:21:34.752Z\",\"waitTime\":20},{\"date\":\"2018-12-07T19:25:33.867Z\",\"waitTime\":20},{\"date\":\"2018-12-07T19:36:31.429Z\",\"waitTime\":15},{\"date\":\"2018-12-07T19:43:22.170Z\",\"waitTime\":15},{\"date\":\"2018-12-07T19:48:28.049Z\",\"waitTime\":20},{\"date\":\"2018-12-07T19:53:43.987Z\",\"waitTime\":20},{\"date\":\"2018-12-07T19:55:29.054Z\",\"waitTime\":20},{\"date\":\"2018-12-07T20:00:33.867Z\",\"waitTime\":20},{\"date\":\"2018-12-07T20:05:33.065Z\",\"waitTime\":25},{\"date\":\"2018-12-07T20:10:34.066Z\",\"waitTime\":30},{\"date\":\"2018-12-07T20:18:27.969Z\",\"waitTime\":35},{\"date\":\"2018-12-07T20:25:34.887Z\",\"waitTime\":40},{\"date\":\"2018-12-07T20:31:34.546Z\",\"waitTime\":40},{\"date\":\"2018-12-07T20:35:32.711Z\",\"waitTime\":40},{\"date\":\"2018-12-07T20:40:40.249Z\",\"waitTime\":35},{\"date\":\"2018-12-07T20:45:33.708Z\",\"waitTime\":35},{\"date\":\"2018-12-07T20:50:37.609Z\",\"waitTime\":35},{\"date\":\"2018-12-07T20:58:22.908Z\",\"waitTime\":20},{\"date\":\"2018-12-07T21:00:32.909Z\",\"waitTime\":20},{\"date\":\"2018-12-07T21:08:36.067Z\",\"waitTime\":25},{\"date\":\"2018-12-07T21:10:36.809Z\",\"waitTime\":25},{\"date\":\"2018-12-07T21:20:34.087Z\",\"waitTime\":25},{\"date\":\"2018-12-07T21:25:40.766Z\",\"waitTime\":30},{\"date\":\"2018-12-07T21:33:21.487Z\",\"waitTime\":25},{\"date\":\"2018-12-07T21:36:43.469Z\",\"waitTime\":25},{\"date\":\"2018-12-07T21:41:40.978Z\",\"waitTime\":20},{\"date\":\"2018-12-07T21:46:28.986Z\",\"waitTime\":20},{\"date\":\"2018-12-07T21:56:40.108Z\",\"waitTime\":15},{\"date\":\"2018-12-07T22:00:33.447Z\",\"waitTime\":15},{\"date\":\"2018-12-07T22:05:35.297Z\",\"waitTime\":15},{\"date\":\"2018-12-07T22:18:36.046Z\",\"waitTime\":20},{\"date\":\"2018-12-07T22:20:35.228Z\",\"waitTime\":25},{\"date\":\"2018-12-07T22:26:38.330Z\",\"waitTime\":25},{\"date\":\"2018-12-07T22:35:40.267Z\",\"waitTime\":30},{\"date\":\"2018-12-07T22:45:34.497Z\",\"waitTime\":30},{\"date\":\"2018-12-07T22:51:33.046Z\",\"waitTime\":25},{\"date\":\"2018-12-07T22:56:38.766Z\",\"waitTime\":25}]};\n",
      "    window.attractionTimezone = \"America/New_York\";\n",
      "\n"
     ]
    }
   ],
   "source": [
    "print parse"
   ]
  },
  {
   "cell_type": "code",
   "execution_count": 68,
   "metadata": {},
   "outputs": [],
   "source": [
    "result = parse"
   ]
  },
  {
   "cell_type": "code",
   "execution_count": 69,
   "metadata": {},
   "outputs": [
    {
     "name": "stdout",
     "output_type": "stream",
     "text": [
      "\n",
      "    window.attractionWaitTimes = {\"open\":\"2018-12-07T13:00:00.000Z\",\"close\":\"2018-12-07T23:00:00.000Z\",\"waitTimes\":[{\"date\":\"2018-12-07T13:05:36.136Z\",\"waitTime\":5},{\"date\":\"2018-12-07T13:13:50.559Z\",\"waitTime\":5},{\"date\":\"2018-12-07T13:15:33.719Z\",\"waitTime\":10},{\"date\":\"2018-12-07T13:20:34.259Z\",\"waitTime\":10},{\"date\":\"2018-12-07T13:25:33.603Z\",\"waitTime\":10},{\"date\":\"2018-12-07T13:33:35.438Z\",\"waitTime\":10},{\"date\":\"2018-12-07T13:38:27.397Z\",\"waitTime\":10},{\"date\":\"2018-12-07T13:40:35.076Z\",\"waitTime\":10},{\"date\":\"2018-12-07T13:45:33.657Z\",\"waitTime\":10},{\"date\":\"2018-12-07T13:50:33.479Z\",\"waitTime\":10},{\"date\":\"2018-12-07T13:58:29.217Z\",\"waitTime\":10},{\"date\":\"2018-12-07T14:03:38.106Z\",\"waitTime\":10},{\"date\":\"2018-12-07T14:05:35.764Z\",\"waitTime\":10},{\"date\":\"2018-12-07T14:13:24.499Z\",\"waitTime\":10},{\"date\":\"2018-12-07T14:21:35.897Z\",\"waitTime\":10},{\"date\":\"2018-12-07T14:35:29.586Z\",\"waitTime\":10},{\"date\":\"2018-12-07T14:40:34.296Z\",\"waitTime\":10},{\"date\":\"2018-12-07T14:46:37.443Z\",\"waitTime\":10},{\"date\":\"2018-12-07T14:50:34.156Z\",\"waitTime\":10},{\"date\":\"2018-12-07T14:56:31.805Z\",\"waitTime\":10},{\"date\":\"2018-12-07T15:00:38.707Z\",\"waitTime\":10},{\"date\":\"2018-12-07T15:05:30.629Z\",\"waitTime\":10},{\"date\":\"2018-12-07T15:10:28.768Z\",\"waitTime\":10},{\"date\":\"2018-12-07T15:15:30.006Z\",\"waitTime\":10},{\"date\":\"2018-12-07T15:20:28.788Z\",\"waitTime\":10},{\"date\":\"2018-12-07T15:25:30.048Z\",\"waitTime\":10},{\"date\":\"2018-12-07T15:30:37.086Z\",\"waitTime\":10},{\"date\":\"2018-12-07T15:36:32.046Z\",\"waitTime\":10},{\"date\":\"2018-12-07T15:40:33.704Z\",\"waitTime\":10},{\"date\":\"2018-12-07T15:45:33.686Z\",\"waitTime\":10},{\"date\":\"2018-12-07T15:50:29.388Z\",\"waitTime\":10},{\"date\":\"2018-12-07T15:55:28.406Z\",\"waitTime\":10},{\"date\":\"2018-12-07T16:05:29.268Z\",\"waitTime\":15},{\"date\":\"2018-12-07T16:10:29.389Z\",\"waitTime\":15},{\"date\":\"2018-12-07T16:15:40.651Z\",\"waitTime\":15},{\"date\":\"2018-12-07T16:20:34.047Z\",\"waitTime\":15},{\"date\":\"2018-12-07T16:38:50.870Z\",\"waitTime\":15},{\"date\":\"2018-12-07T16:40:28.628Z\",\"waitTime\":20},{\"date\":\"2018-12-07T16:45:32.806Z\",\"waitTime\":20},{\"date\":\"2018-12-07T16:50:28.908Z\",\"waitTime\":20},{\"date\":\"2018-12-07T16:56:33.453Z\",\"waitTime\":25},{\"date\":\"2018-12-07T17:00:32.867Z\",\"waitTime\":25},{\"date\":\"2018-12-07T17:10:34.307Z\",\"waitTime\":25},{\"date\":\"2018-12-07T17:23:38.886Z\",\"waitTime\":30},{\"date\":\"2018-12-07T17:25:34.812Z\",\"waitTime\":25},{\"date\":\"2018-12-07T17:30:33.186Z\",\"waitTime\":20},{\"date\":\"2018-12-07T17:35:28.708Z\",\"waitTime\":15},{\"date\":\"2018-12-07T17:40:28.626Z\",\"waitTime\":15},{\"date\":\"2018-12-07T17:45:33.707Z\",\"waitTime\":15},{\"date\":\"2018-12-07T17:51:33.406Z\",\"waitTime\":15},{\"date\":\"2018-12-07T17:55:33.048Z\",\"waitTime\":15},{\"date\":\"2018-12-07T18:00:33.905Z\",\"waitTime\":15},{\"date\":\"2018-12-07T18:06:35.107Z\",\"waitTime\":15},{\"date\":\"2018-12-07T18:10:34.152Z\",\"waitTime\":15},{\"date\":\"2018-12-07T18:20:33.352Z\",\"waitTime\":20},{\"date\":\"2018-12-07T18:25:28.346Z\",\"waitTime\":25},{\"date\":\"2018-12-07T18:33:31.287Z\",\"waitTime\":30},{\"date\":\"2018-12-07T18:36:41.504Z\",\"waitTime\":30},{\"date\":\"2018-12-07T18:41:32.846Z\",\"waitTime\":30},{\"date\":\"2018-12-07T18:45:39.724Z\",\"waitTime\":30},{\"date\":\"2018-12-07T18:55:33.714Z\",\"waitTime\":30},{\"date\":\"2018-12-07T19:00:30.867Z\",\"waitTime\":30},{\"date\":\"2018-12-07T19:05:30.287Z\",\"waitTime\":30},{\"date\":\"2018-12-07T19:10:35.487Z\",\"waitTime\":30},{\"date\":\"2018-12-07T19:15:34.009Z\",\"waitTime\":20},{\"date\":\"2018-12-07T19:21:34.752Z\",\"waitTime\":20},{\"date\":\"2018-12-07T19:25:33.867Z\",\"waitTime\":20},{\"date\":\"2018-12-07T19:36:31.429Z\",\"waitTime\":15},{\"date\":\"2018-12-07T19:43:22.170Z\",\"waitTime\":15},{\"date\":\"2018-12-07T19:48:28.049Z\",\"waitTime\":20},{\"date\":\"2018-12-07T19:53:43.987Z\",\"waitTime\":20},{\"date\":\"2018-12-07T19:55:29.054Z\",\"waitTime\":20},{\"date\":\"2018-12-07T20:00:33.867Z\",\"waitTime\":20},{\"date\":\"2018-12-07T20:05:33.065Z\",\"waitTime\":25},{\"date\":\"2018-12-07T20:10:34.066Z\",\"waitTime\":30},{\"date\":\"2018-12-07T20:18:27.969Z\",\"waitTime\":35},{\"date\":\"2018-12-07T20:25:34.887Z\",\"waitTime\":40},{\"date\":\"2018-12-07T20:31:34.546Z\",\"waitTime\":40},{\"date\":\"2018-12-07T20:35:32.711Z\",\"waitTime\":40},{\"date\":\"2018-12-07T20:40:40.249Z\",\"waitTime\":35},{\"date\":\"2018-12-07T20:45:33.708Z\",\"waitTime\":35},{\"date\":\"2018-12-07T20:50:37.609Z\",\"waitTime\":35},{\"date\":\"2018-12-07T20:58:22.908Z\",\"waitTime\":20},{\"date\":\"2018-12-07T21:00:32.909Z\",\"waitTime\":20},{\"date\":\"2018-12-07T21:08:36.067Z\",\"waitTime\":25},{\"date\":\"2018-12-07T21:10:36.809Z\",\"waitTime\":25},{\"date\":\"2018-12-07T21:20:34.087Z\",\"waitTime\":25},{\"date\":\"2018-12-07T21:25:40.766Z\",\"waitTime\":30},{\"date\":\"2018-12-07T21:33:21.487Z\",\"waitTime\":25},{\"date\":\"2018-12-07T21:36:43.469Z\",\"waitTime\":25},{\"date\":\"2018-12-07T21:41:40.978Z\",\"waitTime\":20},{\"date\":\"2018-12-07T21:46:28.986Z\",\"waitTime\":20},{\"date\":\"2018-12-07T21:56:40.108Z\",\"waitTime\":15},{\"date\":\"2018-12-07T22:00:33.447Z\",\"waitTime\":15},{\"date\":\"2018-12-07T22:05:35.297Z\",\"waitTime\":15},{\"date\":\"2018-12-07T22:18:36.046Z\",\"waitTime\":20},{\"date\":\"2018-12-07T22:20:35.228Z\",\"waitTime\":25},{\"date\":\"2018-12-07T22:26:38.330Z\",\"waitTime\":25},{\"date\":\"2018-12-07T22:35:40.267Z\",\"waitTime\":30},{\"date\":\"2018-12-07T22:45:34.497Z\",\"waitTime\":30},{\"date\":\"2018-12-07T22:51:33.046Z\",\"waitTime\":25},{\"date\":\"2018-12-07T22:56:38.766Z\",\"waitTime\":25}]};\n",
      "    window.attractionTimezone = \"America/New_York\";\n",
      "\n"
     ]
    }
   ],
   "source": [
    "print result"
   ]
  },
  {
   "cell_type": "code",
   "execution_count": 70,
   "metadata": {},
   "outputs": [
    {
     "name": "stdout",
     "output_type": "stream",
     "text": [
      " {\"open\":\"2018-12-07T13:00:00.000Z\",\"close\":\"2018-12-07T23:00:00.000Z\",\"waitTimes\":[{\"date\":\"2018-12-07T13:05:36.136Z\",\"waitTime\":5},{\"date\":\"2018-12-07T13:13:50.559Z\",\"waitTime\":5},{\"date\":\"2018-12-07T13:15:33.719Z\",\"waitTime\":10},{\"date\":\"2018-12-07T13:20:34.259Z\",\"waitTime\":10},{\"date\":\"2018-12-07T13:25:33.603Z\",\"waitTime\":10},{\"date\":\"2018-12-07T13:33:35.438Z\",\"waitTime\":10},{\"date\":\"2018-12-07T13:38:27.397Z\",\"waitTime\":10},{\"date\":\"2018-12-07T13:40:35.076Z\",\"waitTime\":10},{\"date\":\"2018-12-07T13:45:33.657Z\",\"waitTime\":10},{\"date\":\"2018-12-07T13:50:33.479Z\",\"waitTime\":10},{\"date\":\"2018-12-07T13:58:29.217Z\",\"waitTime\":10},{\"date\":\"2018-12-07T14:03:38.106Z\",\"waitTime\":10},{\"date\":\"2018-12-07T14:05:35.764Z\",\"waitTime\":10},{\"date\":\"2018-12-07T14:13:24.499Z\",\"waitTime\":10},{\"date\":\"2018-12-07T14:21:35.897Z\",\"waitTime\":10},{\"date\":\"2018-12-07T14:35:29.586Z\",\"waitTime\":10},{\"date\":\"2018-12-07T14:40:34.296Z\",\"waitTime\":10},{\"date\":\"2018-12-07T14:46:37.443Z\",\"waitTime\":10},{\"date\":\"2018-12-07T14:50:34.156Z\",\"waitTime\":10},{\"date\":\"2018-12-07T14:56:31.805Z\",\"waitTime\":10},{\"date\":\"2018-12-07T15:00:38.707Z\",\"waitTime\":10},{\"date\":\"2018-12-07T15:05:30.629Z\",\"waitTime\":10},{\"date\":\"2018-12-07T15:10:28.768Z\",\"waitTime\":10},{\"date\":\"2018-12-07T15:15:30.006Z\",\"waitTime\":10},{\"date\":\"2018-12-07T15:20:28.788Z\",\"waitTime\":10},{\"date\":\"2018-12-07T15:25:30.048Z\",\"waitTime\":10},{\"date\":\"2018-12-07T15:30:37.086Z\",\"waitTime\":10},{\"date\":\"2018-12-07T15:36:32.046Z\",\"waitTime\":10},{\"date\":\"2018-12-07T15:40:33.704Z\",\"waitTime\":10},{\"date\":\"2018-12-07T15:45:33.686Z\",\"waitTime\":10},{\"date\":\"2018-12-07T15:50:29.388Z\",\"waitTime\":10},{\"date\":\"2018-12-07T15:55:28.406Z\",\"waitTime\":10},{\"date\":\"2018-12-07T16:05:29.268Z\",\"waitTime\":15},{\"date\":\"2018-12-07T16:10:29.389Z\",\"waitTime\":15},{\"date\":\"2018-12-07T16:15:40.651Z\",\"waitTime\":15},{\"date\":\"2018-12-07T16:20:34.047Z\",\"waitTime\":15},{\"date\":\"2018-12-07T16:38:50.870Z\",\"waitTime\":15},{\"date\":\"2018-12-07T16:40:28.628Z\",\"waitTime\":20},{\"date\":\"2018-12-07T16:45:32.806Z\",\"waitTime\":20},{\"date\":\"2018-12-07T16:50:28.908Z\",\"waitTime\":20},{\"date\":\"2018-12-07T16:56:33.453Z\",\"waitTime\":25},{\"date\":\"2018-12-07T17:00:32.867Z\",\"waitTime\":25},{\"date\":\"2018-12-07T17:10:34.307Z\",\"waitTime\":25},{\"date\":\"2018-12-07T17:23:38.886Z\",\"waitTime\":30},{\"date\":\"2018-12-07T17:25:34.812Z\",\"waitTime\":25},{\"date\":\"2018-12-07T17:30:33.186Z\",\"waitTime\":20},{\"date\":\"2018-12-07T17:35:28.708Z\",\"waitTime\":15},{\"date\":\"2018-12-07T17:40:28.626Z\",\"waitTime\":15},{\"date\":\"2018-12-07T17:45:33.707Z\",\"waitTime\":15},{\"date\":\"2018-12-07T17:51:33.406Z\",\"waitTime\":15},{\"date\":\"2018-12-07T17:55:33.048Z\",\"waitTime\":15},{\"date\":\"2018-12-07T18:00:33.905Z\",\"waitTime\":15},{\"date\":\"2018-12-07T18:06:35.107Z\",\"waitTime\":15},{\"date\":\"2018-12-07T18:10:34.152Z\",\"waitTime\":15},{\"date\":\"2018-12-07T18:20:33.352Z\",\"waitTime\":20},{\"date\":\"2018-12-07T18:25:28.346Z\",\"waitTime\":25},{\"date\":\"2018-12-07T18:33:31.287Z\",\"waitTime\":30},{\"date\":\"2018-12-07T18:36:41.504Z\",\"waitTime\":30},{\"date\":\"2018-12-07T18:41:32.846Z\",\"waitTime\":30},{\"date\":\"2018-12-07T18:45:39.724Z\",\"waitTime\":30},{\"date\":\"2018-12-07T18:55:33.714Z\",\"waitTime\":30},{\"date\":\"2018-12-07T19:00:30.867Z\",\"waitTime\":30},{\"date\":\"2018-12-07T19:05:30.287Z\",\"waitTime\":30},{\"date\":\"2018-12-07T19:10:35.487Z\",\"waitTime\":30},{\"date\":\"2018-12-07T19:15:34.009Z\",\"waitTime\":20},{\"date\":\"2018-12-07T19:21:34.752Z\",\"waitTime\":20},{\"date\":\"2018-12-07T19:25:33.867Z\",\"waitTime\":20},{\"date\":\"2018-12-07T19:36:31.429Z\",\"waitTime\":15},{\"date\":\"2018-12-07T19:43:22.170Z\",\"waitTime\":15},{\"date\":\"2018-12-07T19:48:28.049Z\",\"waitTime\":20},{\"date\":\"2018-12-07T19:53:43.987Z\",\"waitTime\":20},{\"date\":\"2018-12-07T19:55:29.054Z\",\"waitTime\":20},{\"date\":\"2018-12-07T20:00:33.867Z\",\"waitTime\":20},{\"date\":\"2018-12-07T20:05:33.065Z\",\"waitTime\":25},{\"date\":\"2018-12-07T20:10:34.066Z\",\"waitTime\":30},{\"date\":\"2018-12-07T20:18:27.969Z\",\"waitTime\":35},{\"date\":\"2018-12-07T20:25:34.887Z\",\"waitTime\":40},{\"date\":\"2018-12-07T20:31:34.546Z\",\"waitTime\":40},{\"date\":\"2018-12-07T20:35:32.711Z\",\"waitTime\":40},{\"date\":\"2018-12-07T20:40:40.249Z\",\"waitTime\":35},{\"date\":\"2018-12-07T20:45:33.708Z\",\"waitTime\":35},{\"date\":\"2018-12-07T20:50:37.609Z\",\"waitTime\":35},{\"date\":\"2018-12-07T20:58:22.908Z\",\"waitTime\":20},{\"date\":\"2018-12-07T21:00:32.909Z\",\"waitTime\":20},{\"date\":\"2018-12-07T21:08:36.067Z\",\"waitTime\":25},{\"date\":\"2018-12-07T21:10:36.809Z\",\"waitTime\":25},{\"date\":\"2018-12-07T21:20:34.087Z\",\"waitTime\":25},{\"date\":\"2018-12-07T21:25:40.766Z\",\"waitTime\":30},{\"date\":\"2018-12-07T21:33:21.487Z\",\"waitTime\":25},{\"date\":\"2018-12-07T21:36:43.469Z\",\"waitTime\":25},{\"date\":\"2018-12-07T21:41:40.978Z\",\"waitTime\":20},{\"date\":\"2018-12-07T21:46:28.986Z\",\"waitTime\":20},{\"date\":\"2018-12-07T21:56:40.108Z\",\"waitTime\":15},{\"date\":\"2018-12-07T22:00:33.447Z\",\"waitTime\":15},{\"date\":\"2018-12-07T22:05:35.297Z\",\"waitTime\":15},{\"date\":\"2018-12-07T22:18:36.046Z\",\"waitTime\":20},{\"date\":\"2018-12-07T22:20:35.228Z\",\"waitTime\":25},{\"date\":\"2018-12-07T22:26:38.330Z\",\"waitTime\":25},{\"date\":\"2018-12-07T22:35:40.267Z\",\"waitTime\":30},{\"date\":\"2018-12-07T22:45:34.497Z\",\"waitTime\":30},{\"date\":\"2018-12-07T22:51:33.046Z\",\"waitTime\":25},{\"date\":\"2018-12-07T22:56:38.766Z\",\"waitTime\":25}]};\n",
      "    window.attractionTimezone = \"America/New_York\";\n",
      "\n"
     ]
    }
   ],
   "source": [
    "result2 = result[33:]\n",
    "print result2"
   ]
  },
  {
   "cell_type": "code",
   "execution_count": 71,
   "metadata": {},
   "outputs": [
    {
     "name": "stdout",
     "output_type": "stream",
     "text": [
      "5237\n"
     ]
    }
   ],
   "source": [
    "print len(result2)"
   ]
  },
  {
   "cell_type": "code",
   "execution_count": 72,
   "metadata": {},
   "outputs": [
    {
     "name": "stdout",
     "output_type": "stream",
     "text": [
      " {\"open\":\"2018-12-07T13:00:00.000Z\",\"close\":\"2018-12-07T23:00:00.000Z\",\"waitTimes\":[{\"date\":\"2018-12-07T13:05:36.136Z\",\"waitTime\":5},{\"date\":\"2018-12-07T13:13:50.559Z\",\"waitTime\":5},{\"date\":\"2018-12-07T13:15:33.719Z\",\"waitTime\":10},{\"date\":\"2018-12-07T13:20:34.259Z\",\"waitTime\":10},{\"date\":\"2018-12-07T13:25:33.603Z\",\"waitTime\":10},{\"date\":\"2018-12-07T13:33:35.438Z\",\"waitTime\":10},{\"date\":\"2018-12-07T13:38:27.397Z\",\"waitTime\":10},{\"date\":\"2018-12-07T13:40:35.076Z\",\"waitTime\":10},{\"date\":\"2018-12-07T13:45:33.657Z\",\"waitTime\":10},{\"date\":\"2018-12-07T13:50:33.479Z\",\"waitTime\":10},{\"date\":\"2018-12-07T13:58:29.217Z\",\"waitTime\":10},{\"date\":\"2018-12-07T14:03:38.106Z\",\"waitTime\":10},{\"date\":\"2018-12-07T14:05:35.764Z\",\"waitTime\":10},{\"date\":\"2018-12-07T14:13:24.499Z\",\"waitTime\":10},{\"date\":\"2018-12-07T14:21:35.897Z\",\"waitTime\":10},{\"date\":\"2018-12-07T14:35:29.586Z\",\"waitTime\":10},{\"date\":\"2018-12-07T14:40:34.296Z\",\"waitTime\":10},{\"date\":\"2018-12-07T14:46:37.443Z\",\"waitTime\":10},{\"date\":\"2018-12-07T14:50:34.156Z\",\"waitTime\":10},{\"date\":\"2018-12-07T14:56:31.805Z\",\"waitTime\":10},{\"date\":\"2018-12-07T15:00:38.707Z\",\"waitTime\":10},{\"date\":\"2018-12-07T15:05:30.629Z\",\"waitTime\":10},{\"date\":\"2018-12-07T15:10:28.768Z\",\"waitTime\":10},{\"date\":\"2018-12-07T15:15:30.006Z\",\"waitTime\":10},{\"date\":\"2018-12-07T15:20:28.788Z\",\"waitTime\":10},{\"date\":\"2018-12-07T15:25:30.048Z\",\"waitTime\":10},{\"date\":\"2018-12-07T15:30:37.086Z\",\"waitTime\":10},{\"date\":\"2018-12-07T15:36:32.046Z\",\"waitTime\":10},{\"date\":\"2018-12-07T15:40:33.704Z\",\"waitTime\":10},{\"date\":\"2018-12-07T15:45:33.686Z\",\"waitTime\":10},{\"date\":\"2018-12-07T15:50:29.388Z\",\"waitTime\":10},{\"date\":\"2018-12-07T15:55:28.406Z\",\"waitTime\":10},{\"date\":\"2018-12-07T16:05:29.268Z\",\"waitTime\":15},{\"date\":\"2018-12-07T16:10:29.389Z\",\"waitTime\":15},{\"date\":\"2018-12-07T16:15:40.651Z\",\"waitTime\":15},{\"date\":\"2018-12-07T16:20:34.047Z\",\"waitTime\":15},{\"date\":\"2018-12-07T16:38:50.870Z\",\"waitTime\":15},{\"date\":\"2018-12-07T16:40:28.628Z\",\"waitTime\":20},{\"date\":\"2018-12-07T16:45:32.806Z\",\"waitTime\":20},{\"date\":\"2018-12-07T16:50:28.908Z\",\"waitTime\":20},{\"date\":\"2018-12-07T16:56:33.453Z\",\"waitTime\":25},{\"date\":\"2018-12-07T17:00:32.867Z\",\"waitTime\":25},{\"date\":\"2018-12-07T17:10:34.307Z\",\"waitTime\":25},{\"date\":\"2018-12-07T17:23:38.886Z\",\"waitTime\":30},{\"date\":\"2018-12-07T17:25:34.812Z\",\"waitTime\":25},{\"date\":\"2018-12-07T17:30:33.186Z\",\"waitTime\":20},{\"date\":\"2018-12-07T17:35:28.708Z\",\"waitTime\":15},{\"date\":\"2018-12-07T17:40:28.626Z\",\"waitTime\":15},{\"date\":\"2018-12-07T17:45:33.707Z\",\"waitTime\":15},{\"date\":\"2018-12-07T17:51:33.406Z\",\"waitTime\":15},{\"date\":\"2018-12-07T17:55:33.048Z\",\"waitTime\":15},{\"date\":\"2018-12-07T18:00:33.905Z\",\"waitTime\":15},{\"date\":\"2018-12-07T18:06:35.107Z\",\"waitTime\":15},{\"date\":\"2018-12-07T18:10:34.152Z\",\"waitTime\":15},{\"date\":\"2018-12-07T18:20:33.352Z\",\"waitTime\":20},{\"date\":\"2018-12-07T18:25:28.346Z\",\"waitTime\":25},{\"date\":\"2018-12-07T18:33:31.287Z\",\"waitTime\":30},{\"date\":\"2018-12-07T18:36:41.504Z\",\"waitTime\":30},{\"date\":\"2018-12-07T18:41:32.846Z\",\"waitTime\":30},{\"date\":\"2018-12-07T18:45:39.724Z\",\"waitTime\":30},{\"date\":\"2018-12-07T18:55:33.714Z\",\"waitTime\":30},{\"date\":\"2018-12-07T19:00:30.867Z\",\"waitTime\":30},{\"date\":\"2018-12-07T19:05:30.287Z\",\"waitTime\":30},{\"date\":\"2018-12-07T19:10:35.487Z\",\"waitTime\":30},{\"date\":\"2018-12-07T19:15:34.009Z\",\"waitTime\":20},{\"date\":\"2018-12-07T19:21:34.752Z\",\"waitTime\":20},{\"date\":\"2018-12-07T19:25:33.867Z\",\"waitTime\":20},{\"date\":\"2018-12-07T19:36:31.429Z\",\"waitTime\":15},{\"date\":\"2018-12-07T19:43:22.170Z\",\"waitTime\":15},{\"date\":\"2018-12-07T19:48:28.049Z\",\"waitTime\":20},{\"date\":\"2018-12-07T19:53:43.987Z\",\"waitTime\":20},{\"date\":\"2018-12-07T19:55:29.054Z\",\"waitTime\":20},{\"date\":\"2018-12-07T20:00:33.867Z\",\"waitTime\":20},{\"date\":\"2018-12-07T20:05:33.065Z\",\"waitTime\":25},{\"date\":\"2018-12-07T20:10:34.066Z\",\"waitTime\":30},{\"date\":\"2018-12-07T20:18:27.969Z\",\"waitTime\":35},{\"date\":\"2018-12-07T20:25:34.887Z\",\"waitTime\":40},{\"date\":\"2018-12-07T20:31:34.546Z\",\"waitTime\":40},{\"date\":\"2018-12-07T20:35:32.711Z\",\"waitTime\":40},{\"date\":\"2018-12-07T20:40:40.249Z\",\"waitTime\":35},{\"date\":\"2018-12-07T20:45:33.708Z\",\"waitTime\":35},{\"date\":\"2018-12-07T20:50:37.609Z\",\"waitTime\":35},{\"date\":\"2018-12-07T20:58:22.908Z\",\"waitTime\":20},{\"date\":\"2018-12-07T21:00:32.909Z\",\"waitTime\":20},{\"date\":\"2018-12-07T21:08:36.067Z\",\"waitTime\":25},{\"date\":\"2018-12-07T21:10:36.809Z\",\"waitTime\":25},{\"date\":\"2018-12-07T21:20:34.087Z\",\"waitTime\":25},{\"date\":\"2018-12-07T21:25:40.766Z\",\"waitTime\":30},{\"date\":\"2018-12-07T21:33:21.487Z\",\"waitTime\":25},{\"date\":\"2018-12-07T21:36:43.469Z\",\"waitTime\":25},{\"date\":\"2018-12-07T21:41:40.978Z\",\"waitTime\":20},{\"date\":\"2018-12-07T21:46:28.986Z\",\"waitTime\":20},{\"date\":\"2018-12-07T21:56:40.108Z\",\"waitTime\":15},{\"date\":\"2018-12-07T22:00:33.447Z\",\"waitTime\":15},{\"date\":\"2018-12-07T22:05:35.297Z\",\"waitTime\":15},{\"date\":\"2018-12-07T22:18:36.046Z\",\"waitTime\":20},{\"date\":\"2018-12-07T22:20:35.228Z\",\"waitTime\":25},{\"date\":\"2018-12-07T22:26:38.330Z\",\"waitTime\":25},{\"date\":\"2018-12-07T22:35:40.267Z\",\"waitTime\":30},{\"date\":\"2018-12-07T22:45:34.497Z\",\"waitTime\":30},{\"date\":\"2018-12-07T22:51:33.046Z\",\"waitTime\":25},{\"date\":\"2018-12-07T22:56:38.766Z\",\"waitTime\":25}\n"
     ]
    }
   ],
   "source": [
    "result3=result2[:5181]\n",
    "print result3"
   ]
  },
  {
   "cell_type": "code",
   "execution_count": 73,
   "metadata": {},
   "outputs": [
    {
     "name": "stdout",
     "output_type": "stream",
     "text": [
      "Empty DataFrame\n",
      "Columns: [Date, WaitTime]\n",
      "Index: []\n"
     ]
    }
   ],
   "source": [
    "import pandas as pd \n",
    "df = pd.DataFrame(columns=['Date','WaitTime'])\n",
    "print df\n"
   ]
  },
  {
   "cell_type": "code",
   "execution_count": 74,
   "metadata": {},
   "outputs": [
    {
     "name": "stdout",
     "output_type": "stream",
     "text": [
      "[u':5', u':5', u':10', u':10', u':10', u':10', u':10', u':10', u':10', u':10', u':10', u':10', u':10', u':10', u':10', u':10', u':10', u':10', u':10', u':10', u':10', u':10', u':10', u':10', u':10', u':10', u':10', u':10', u':10', u':10', u':10', u':10', u':15', u':15', u':15', u':15', u':15', u':20', u':20', u':20', u':25', u':25', u':25', u':30', u':25', u':20', u':15', u':15', u':15', u':15', u':15', u':15', u':15', u':15', u':20', u':25', u':30', u':30', u':30', u':30', u':30', u':30', u':30', u':30', u':20', u':20', u':20', u':15', u':15', u':20', u':20', u':20', u':20', u':25', u':30', u':35', u':40', u':40', u':40', u':35', u':35', u':35', u':20', u':20', u':25', u':25', u':25', u':30', u':25', u':25', u':20', u':20', u':15', u':15', u':15', u':20', u':25', u':25', u':30', u':30', u':25']\n"
     ]
    }
   ],
   "source": [
    "import re\n",
    "x=re.findall(r'waitTime\"(.*?)},',result3)\n",
    "print x\n",
    "\n",
    "\n"
   ]
  },
  {
   "cell_type": "code",
   "execution_count": 75,
   "metadata": {},
   "outputs": [
    {
     "name": "stdout",
     "output_type": "stream",
     "text": [
      "<type 'list'>\n",
      "<type 'list'>\n"
     ]
    }
   ],
   "source": [
    "import re\n",
    "columna = re.findall(\"waitTime\",result3)\n",
    "columnb = re.findall(r'waitTime\":(.*?)},',result3)\n",
    "print type(columna)\n",
    "print type(columnb)\n",
    "\n",
    "\n",
    "\n",
    "\n"
   ]
  },
  {
   "cell_type": "code",
   "execution_count": 76,
   "metadata": {},
   "outputs": [
    {
     "name": "stdout",
     "output_type": "stream",
     "text": [
      "    WaitTime\n",
      "0          5\n",
      "1          5\n",
      "2         10\n",
      "3         10\n",
      "4         10\n",
      "5         10\n",
      "6         10\n",
      "7         10\n",
      "8         10\n",
      "9         10\n",
      "10        10\n",
      "11        10\n",
      "12        10\n",
      "13        10\n",
      "14        10\n",
      "15        10\n",
      "16        10\n",
      "17        10\n",
      "18        10\n",
      "19        10\n",
      "20        10\n",
      "21        10\n",
      "22        10\n",
      "23        10\n",
      "24        10\n",
      "25        10\n",
      "26        10\n",
      "27        10\n",
      "28        10\n",
      "29        10\n",
      "..       ...\n",
      "71        20\n",
      "72        20\n",
      "73        25\n",
      "74        30\n",
      "75        35\n",
      "76        40\n",
      "77        40\n",
      "78        40\n",
      "79        35\n",
      "80        35\n",
      "81        35\n",
      "82        20\n",
      "83        20\n",
      "84        25\n",
      "85        25\n",
      "86        25\n",
      "87        30\n",
      "88        25\n",
      "89        25\n",
      "90        20\n",
      "91        20\n",
      "92        15\n",
      "93        15\n",
      "94        15\n",
      "95        20\n",
      "96        25\n",
      "97        25\n",
      "98        30\n",
      "99        30\n",
      "100       25\n",
      "\n",
      "[101 rows x 1 columns]\n"
     ]
    }
   ],
   "source": [
    "import pandas as pd\n",
    "df = pd.DataFrame({'WaitTime':columnb})\n",
    "print (df)"
   ]
  },
  {
   "cell_type": "code",
   "execution_count": 67,
   "metadata": {},
   "outputs": [],
   "source": [
    "#Finally, save the dataframe as a CSV\n",
    "df.to_csv('rides.csv')\n",
    "\n"
   ]
  },
  {
   "cell_type": "code",
   "execution_count": null,
   "metadata": {},
   "outputs": [],
   "source": []
  }
 ],
 "metadata": {
  "kernelspec": {
   "display_name": "Python 2",
   "language": "python",
   "name": "python2"
  },
  "language_info": {
   "codemirror_mode": {
    "name": "ipython",
    "version": 2
   },
   "file_extension": ".py",
   "mimetype": "text/x-python",
   "name": "python",
   "nbconvert_exporter": "python",
   "pygments_lexer": "ipython2",
   "version": "2.7.15"
  }
 },
 "nbformat": 4,
 "nbformat_minor": 2
}
